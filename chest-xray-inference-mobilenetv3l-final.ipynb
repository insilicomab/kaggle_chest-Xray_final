{
 "cells": [
  {
   "cell_type": "markdown",
   "id": "a0f36319",
   "metadata": {
    "papermill": {
     "duration": 0.068436,
     "end_time": "2022-05-20T22:49:37.245239",
     "exception": false,
     "start_time": "2022-05-20T22:49:37.176803",
     "status": "completed"
    },
    "tags": []
   },
   "source": [
    "# 事前準備"
   ]
  },
  {
   "cell_type": "code",
   "execution_count": 1,
   "id": "742f4236",
   "metadata": {
    "execution": {
     "iopub.execute_input": "2022-05-20T22:49:37.387045Z",
     "iopub.status.busy": "2022-05-20T22:49:37.386477Z",
     "iopub.status.idle": "2022-05-20T22:49:39.961070Z",
     "shell.execute_reply": "2022-05-20T22:49:39.960474Z",
     "shell.execute_reply.started": "2022-05-20T22:43:00.282015Z"
    },
    "papermill": {
     "duration": 2.650128,
     "end_time": "2022-05-20T22:49:39.961191",
     "exception": false,
     "start_time": "2022-05-20T22:49:37.311063",
     "status": "completed"
    },
    "tags": []
   },
   "outputs": [],
   "source": [
    "# ライブラリのインポート\n",
    "import os\n",
    "import re\n",
    "import random\n",
    "from glob import glob\n",
    "from warnings import filterwarnings\n",
    "\n",
    "import argparse\n",
    "\n",
    "import pandas as pd\n",
    "import numpy as np\n",
    "import matplotlib.pyplot as plt\n",
    "import seaborn as sns\n",
    "\n",
    "from sklearn.model_selection import train_test_split\n",
    "from sklearn.metrics import confusion_matrix\n",
    "from sklearn.metrics import accuracy_score, precision_score, recall_score, f1_score\n",
    "\n",
    "import cv2\n",
    "from PIL import Image\n",
    "\n",
    "import torch\n",
    "from torchvision import datasets, transforms, models\n",
    "from torch.utils.data import Dataset, DataLoader\n",
    "from torch import nn, optim\n",
    "\n",
    "from collections import defaultdict\n",
    "\n",
    "filterwarnings('ignore')   # warningをオフにする"
   ]
  },
  {
   "cell_type": "code",
   "execution_count": 2,
   "id": "5b17247b",
   "metadata": {
    "execution": {
     "iopub.execute_input": "2022-05-20T22:49:40.051660Z",
     "iopub.status.busy": "2022-05-20T22:49:40.051196Z",
     "iopub.status.idle": "2022-05-20T22:49:40.055000Z",
     "shell.execute_reply": "2022-05-20T22:49:40.055408Z",
     "shell.execute_reply.started": "2022-05-20T22:43:00.295065Z"
    },
    "papermill": {
     "duration": 0.051182,
     "end_time": "2022-05-20T22:49:40.055551",
     "exception": false,
     "start_time": "2022-05-20T22:49:40.004369",
     "status": "completed"
    },
    "tags": []
   },
   "outputs": [],
   "source": [
    "# ランダムシードの設定\n",
    "torch.manual_seed(1234)\n",
    "torch.cuda.manual_seed(1234)\n",
    "np.random.seed(1234)\n",
    "random.seed(1234)"
   ]
  },
  {
   "cell_type": "code",
   "execution_count": 3,
   "id": "eaab24ac",
   "metadata": {
    "execution": {
     "iopub.execute_input": "2022-05-20T22:49:40.147051Z",
     "iopub.status.busy": "2022-05-20T22:49:40.146621Z",
     "iopub.status.idle": "2022-05-20T22:49:40.149964Z",
     "shell.execute_reply": "2022-05-20T22:49:40.149397Z",
     "shell.execute_reply.started": "2022-05-20T22:43:00.312167Z"
    },
    "papermill": {
     "duration": 0.051479,
     "end_time": "2022-05-20T22:49:40.150102",
     "exception": false,
     "start_time": "2022-05-20T22:49:40.098623",
     "status": "completed"
    },
    "tags": []
   },
   "outputs": [
    {
     "name": "stdout",
     "output_type": "stream",
     "text": [
      "デバイス：cpu\n"
     ]
    }
   ],
   "source": [
    "# デバイスの設定\n",
    "device = 'cuda' if torch.cuda.is_available() else 'cpu'\n",
    "kwargs = {'num_workers': 1, 'pin_memory': True} if torch.cuda.is_available() else {} # GPUが使える場合、DataLoaderでのミニバッチの取り出しを高速化\n",
    "print(f'デバイス：{device}')"
   ]
  },
  {
   "cell_type": "code",
   "execution_count": 4,
   "id": "be324e35",
   "metadata": {
    "execution": {
     "iopub.execute_input": "2022-05-20T22:49:40.288192Z",
     "iopub.status.busy": "2022-05-20T22:49:40.287394Z",
     "iopub.status.idle": "2022-05-20T22:49:40.294129Z",
     "shell.execute_reply": "2022-05-20T22:49:40.294671Z",
     "shell.execute_reply.started": "2022-05-20T22:43:00.326189Z"
    },
    "papermill": {
     "duration": 0.076949,
     "end_time": "2022-05-20T22:49:40.294829",
     "exception": false,
     "start_time": "2022-05-20T22:49:40.217880",
     "status": "completed"
    },
    "tags": []
   },
   "outputs": [
    {
     "name": "stdout",
     "output_type": "stream",
     "text": [
      "Namespace(image_size=224, num_classes=2)\n"
     ]
    }
   ],
   "source": [
    "# ハイパーパラメータの設定\n",
    "parser = argparse.ArgumentParser()\n",
    "parser.add_argument('--image_size', type=int, default=224)\n",
    "parser.add_argument('--num_classes', type=int, default=2)\n",
    "opt = parser.parse_args(args=[])\n",
    "print(opt)"
   ]
  },
  {
   "cell_type": "code",
   "execution_count": 5,
   "id": "33a76797",
   "metadata": {
    "execution": {
     "iopub.execute_input": "2022-05-20T22:49:40.387097Z",
     "iopub.status.busy": "2022-05-20T22:49:40.386640Z",
     "iopub.status.idle": "2022-05-20T22:49:40.389644Z",
     "shell.execute_reply": "2022-05-20T22:49:40.389988Z",
     "shell.execute_reply.started": "2022-05-20T22:43:00.341749Z"
    },
    "papermill": {
     "duration": 0.049925,
     "end_time": "2022-05-20T22:49:40.390101",
     "exception": false,
     "start_time": "2022-05-20T22:49:40.340176",
     "status": "completed"
    },
    "tags": []
   },
   "outputs": [],
   "source": [
    "# NORMALのtestデータのディレクトリ\n",
    "test_normal_dir = '/kaggle/input/chest-xray-pneumonia/chest_xray/chest_xray/test/NORMAL/'\n",
    "\n",
    "# PNEUMONIAのtestデータのディレクトリ\n",
    "test_pneumonia_dir = '/kaggle/input/chest-xray-pneumonia/chest_xray/chest_xray/test/PNEUMONIA/'"
   ]
  },
  {
   "cell_type": "markdown",
   "id": "83de3fcf",
   "metadata": {
    "papermill": {
     "duration": 0.043274,
     "end_time": "2022-05-20T22:49:40.476541",
     "exception": false,
     "start_time": "2022-05-20T22:49:40.433267",
     "status": "completed"
    },
    "tags": []
   },
   "source": [
    "# 学習済みパラメータの読み込み"
   ]
  },
  {
   "cell_type": "code",
   "execution_count": 6,
   "id": "dba91670",
   "metadata": {
    "execution": {
     "iopub.execute_input": "2022-05-20T22:49:40.566923Z",
     "iopub.status.busy": "2022-05-20T22:49:40.566485Z",
     "iopub.status.idle": "2022-05-20T22:49:40.569694Z",
     "shell.execute_reply": "2022-05-20T22:49:40.570108Z",
     "shell.execute_reply.started": "2022-05-20T22:43:00.354210Z"
    },
    "papermill": {
     "duration": 0.050315,
     "end_time": "2022-05-20T22:49:40.570218",
     "exception": false,
     "start_time": "2022-05-20T22:49:40.519903",
     "status": "completed"
    },
    "tags": []
   },
   "outputs": [],
   "source": [
    "# モデルのパス\n",
    "model_path = '../input/chest-xray-training-mobilenetv3l-final/mobilenet_v3_large.pth'\n"
   ]
  },
  {
   "cell_type": "code",
   "execution_count": 7,
   "id": "0ff6a544",
   "metadata": {
    "execution": {
     "iopub.execute_input": "2022-05-20T22:49:40.659211Z",
     "iopub.status.busy": "2022-05-20T22:49:40.658777Z",
     "iopub.status.idle": "2022-05-20T22:49:40.942240Z",
     "shell.execute_reply": "2022-05-20T22:49:40.941704Z",
     "shell.execute_reply.started": "2022-05-20T22:43:00.369204Z"
    },
    "papermill": {
     "duration": 0.32892,
     "end_time": "2022-05-20T22:49:40.942377",
     "exception": false,
     "start_time": "2022-05-20T22:49:40.613457",
     "status": "completed"
    },
    "tags": []
   },
   "outputs": [
    {
     "name": "stdout",
     "output_type": "stream",
     "text": [
      "MobileNetV3(\n",
      "  (features): Sequential(\n",
      "    (0): ConvBNActivation(\n",
      "      (0): Conv2d(3, 16, kernel_size=(3, 3), stride=(2, 2), padding=(1, 1), bias=False)\n",
      "      (1): BatchNorm2d(16, eps=0.001, momentum=0.01, affine=True, track_running_stats=True)\n",
      "      (2): Hardswish()\n",
      "    )\n",
      "    (1): InvertedResidual(\n",
      "      (block): Sequential(\n",
      "        (0): ConvBNActivation(\n",
      "          (0): Conv2d(16, 16, kernel_size=(3, 3), stride=(1, 1), padding=(1, 1), groups=16, bias=False)\n",
      "          (1): BatchNorm2d(16, eps=0.001, momentum=0.01, affine=True, track_running_stats=True)\n",
      "          (2): ReLU(inplace=True)\n",
      "        )\n",
      "        (1): ConvBNActivation(\n",
      "          (0): Conv2d(16, 16, kernel_size=(1, 1), stride=(1, 1), bias=False)\n",
      "          (1): BatchNorm2d(16, eps=0.001, momentum=0.01, affine=True, track_running_stats=True)\n",
      "          (2): Identity()\n",
      "        )\n",
      "      )\n",
      "    )\n",
      "    (2): InvertedResidual(\n",
      "      (block): Sequential(\n",
      "        (0): ConvBNActivation(\n",
      "          (0): Conv2d(16, 64, kernel_size=(1, 1), stride=(1, 1), bias=False)\n",
      "          (1): BatchNorm2d(64, eps=0.001, momentum=0.01, affine=True, track_running_stats=True)\n",
      "          (2): ReLU(inplace=True)\n",
      "        )\n",
      "        (1): ConvBNActivation(\n",
      "          (0): Conv2d(64, 64, kernel_size=(3, 3), stride=(2, 2), padding=(1, 1), groups=64, bias=False)\n",
      "          (1): BatchNorm2d(64, eps=0.001, momentum=0.01, affine=True, track_running_stats=True)\n",
      "          (2): ReLU(inplace=True)\n",
      "        )\n",
      "        (2): ConvBNActivation(\n",
      "          (0): Conv2d(64, 24, kernel_size=(1, 1), stride=(1, 1), bias=False)\n",
      "          (1): BatchNorm2d(24, eps=0.001, momentum=0.01, affine=True, track_running_stats=True)\n",
      "          (2): Identity()\n",
      "        )\n",
      "      )\n",
      "    )\n",
      "    (3): InvertedResidual(\n",
      "      (block): Sequential(\n",
      "        (0): ConvBNActivation(\n",
      "          (0): Conv2d(24, 72, kernel_size=(1, 1), stride=(1, 1), bias=False)\n",
      "          (1): BatchNorm2d(72, eps=0.001, momentum=0.01, affine=True, track_running_stats=True)\n",
      "          (2): ReLU(inplace=True)\n",
      "        )\n",
      "        (1): ConvBNActivation(\n",
      "          (0): Conv2d(72, 72, kernel_size=(3, 3), stride=(1, 1), padding=(1, 1), groups=72, bias=False)\n",
      "          (1): BatchNorm2d(72, eps=0.001, momentum=0.01, affine=True, track_running_stats=True)\n",
      "          (2): ReLU(inplace=True)\n",
      "        )\n",
      "        (2): ConvBNActivation(\n",
      "          (0): Conv2d(72, 24, kernel_size=(1, 1), stride=(1, 1), bias=False)\n",
      "          (1): BatchNorm2d(24, eps=0.001, momentum=0.01, affine=True, track_running_stats=True)\n",
      "          (2): Identity()\n",
      "        )\n",
      "      )\n",
      "    )\n",
      "    (4): InvertedResidual(\n",
      "      (block): Sequential(\n",
      "        (0): ConvBNActivation(\n",
      "          (0): Conv2d(24, 72, kernel_size=(1, 1), stride=(1, 1), bias=False)\n",
      "          (1): BatchNorm2d(72, eps=0.001, momentum=0.01, affine=True, track_running_stats=True)\n",
      "          (2): ReLU(inplace=True)\n",
      "        )\n",
      "        (1): ConvBNActivation(\n",
      "          (0): Conv2d(72, 72, kernel_size=(5, 5), stride=(2, 2), padding=(2, 2), groups=72, bias=False)\n",
      "          (1): BatchNorm2d(72, eps=0.001, momentum=0.01, affine=True, track_running_stats=True)\n",
      "          (2): ReLU(inplace=True)\n",
      "        )\n",
      "        (2): SqueezeExcitation(\n",
      "          (fc1): Conv2d(72, 24, kernel_size=(1, 1), stride=(1, 1))\n",
      "          (relu): ReLU(inplace=True)\n",
      "          (fc2): Conv2d(24, 72, kernel_size=(1, 1), stride=(1, 1))\n",
      "        )\n",
      "        (3): ConvBNActivation(\n",
      "          (0): Conv2d(72, 40, kernel_size=(1, 1), stride=(1, 1), bias=False)\n",
      "          (1): BatchNorm2d(40, eps=0.001, momentum=0.01, affine=True, track_running_stats=True)\n",
      "          (2): Identity()\n",
      "        )\n",
      "      )\n",
      "    )\n",
      "    (5): InvertedResidual(\n",
      "      (block): Sequential(\n",
      "        (0): ConvBNActivation(\n",
      "          (0): Conv2d(40, 120, kernel_size=(1, 1), stride=(1, 1), bias=False)\n",
      "          (1): BatchNorm2d(120, eps=0.001, momentum=0.01, affine=True, track_running_stats=True)\n",
      "          (2): ReLU(inplace=True)\n",
      "        )\n",
      "        (1): ConvBNActivation(\n",
      "          (0): Conv2d(120, 120, kernel_size=(5, 5), stride=(1, 1), padding=(2, 2), groups=120, bias=False)\n",
      "          (1): BatchNorm2d(120, eps=0.001, momentum=0.01, affine=True, track_running_stats=True)\n",
      "          (2): ReLU(inplace=True)\n",
      "        )\n",
      "        (2): SqueezeExcitation(\n",
      "          (fc1): Conv2d(120, 32, kernel_size=(1, 1), stride=(1, 1))\n",
      "          (relu): ReLU(inplace=True)\n",
      "          (fc2): Conv2d(32, 120, kernel_size=(1, 1), stride=(1, 1))\n",
      "        )\n",
      "        (3): ConvBNActivation(\n",
      "          (0): Conv2d(120, 40, kernel_size=(1, 1), stride=(1, 1), bias=False)\n",
      "          (1): BatchNorm2d(40, eps=0.001, momentum=0.01, affine=True, track_running_stats=True)\n",
      "          (2): Identity()\n",
      "        )\n",
      "      )\n",
      "    )\n",
      "    (6): InvertedResidual(\n",
      "      (block): Sequential(\n",
      "        (0): ConvBNActivation(\n",
      "          (0): Conv2d(40, 120, kernel_size=(1, 1), stride=(1, 1), bias=False)\n",
      "          (1): BatchNorm2d(120, eps=0.001, momentum=0.01, affine=True, track_running_stats=True)\n",
      "          (2): ReLU(inplace=True)\n",
      "        )\n",
      "        (1): ConvBNActivation(\n",
      "          (0): Conv2d(120, 120, kernel_size=(5, 5), stride=(1, 1), padding=(2, 2), groups=120, bias=False)\n",
      "          (1): BatchNorm2d(120, eps=0.001, momentum=0.01, affine=True, track_running_stats=True)\n",
      "          (2): ReLU(inplace=True)\n",
      "        )\n",
      "        (2): SqueezeExcitation(\n",
      "          (fc1): Conv2d(120, 32, kernel_size=(1, 1), stride=(1, 1))\n",
      "          (relu): ReLU(inplace=True)\n",
      "          (fc2): Conv2d(32, 120, kernel_size=(1, 1), stride=(1, 1))\n",
      "        )\n",
      "        (3): ConvBNActivation(\n",
      "          (0): Conv2d(120, 40, kernel_size=(1, 1), stride=(1, 1), bias=False)\n",
      "          (1): BatchNorm2d(40, eps=0.001, momentum=0.01, affine=True, track_running_stats=True)\n",
      "          (2): Identity()\n",
      "        )\n",
      "      )\n",
      "    )\n",
      "    (7): InvertedResidual(\n",
      "      (block): Sequential(\n",
      "        (0): ConvBNActivation(\n",
      "          (0): Conv2d(40, 240, kernel_size=(1, 1), stride=(1, 1), bias=False)\n",
      "          (1): BatchNorm2d(240, eps=0.001, momentum=0.01, affine=True, track_running_stats=True)\n",
      "          (2): Hardswish()\n",
      "        )\n",
      "        (1): ConvBNActivation(\n",
      "          (0): Conv2d(240, 240, kernel_size=(3, 3), stride=(2, 2), padding=(1, 1), groups=240, bias=False)\n",
      "          (1): BatchNorm2d(240, eps=0.001, momentum=0.01, affine=True, track_running_stats=True)\n",
      "          (2): Hardswish()\n",
      "        )\n",
      "        (2): ConvBNActivation(\n",
      "          (0): Conv2d(240, 80, kernel_size=(1, 1), stride=(1, 1), bias=False)\n",
      "          (1): BatchNorm2d(80, eps=0.001, momentum=0.01, affine=True, track_running_stats=True)\n",
      "          (2): Identity()\n",
      "        )\n",
      "      )\n",
      "    )\n",
      "    (8): InvertedResidual(\n",
      "      (block): Sequential(\n",
      "        (0): ConvBNActivation(\n",
      "          (0): Conv2d(80, 200, kernel_size=(1, 1), stride=(1, 1), bias=False)\n",
      "          (1): BatchNorm2d(200, eps=0.001, momentum=0.01, affine=True, track_running_stats=True)\n",
      "          (2): Hardswish()\n",
      "        )\n",
      "        (1): ConvBNActivation(\n",
      "          (0): Conv2d(200, 200, kernel_size=(3, 3), stride=(1, 1), padding=(1, 1), groups=200, bias=False)\n",
      "          (1): BatchNorm2d(200, eps=0.001, momentum=0.01, affine=True, track_running_stats=True)\n",
      "          (2): Hardswish()\n",
      "        )\n",
      "        (2): ConvBNActivation(\n",
      "          (0): Conv2d(200, 80, kernel_size=(1, 1), stride=(1, 1), bias=False)\n",
      "          (1): BatchNorm2d(80, eps=0.001, momentum=0.01, affine=True, track_running_stats=True)\n",
      "          (2): Identity()\n",
      "        )\n",
      "      )\n",
      "    )\n",
      "    (9): InvertedResidual(\n",
      "      (block): Sequential(\n",
      "        (0): ConvBNActivation(\n",
      "          (0): Conv2d(80, 184, kernel_size=(1, 1), stride=(1, 1), bias=False)\n",
      "          (1): BatchNorm2d(184, eps=0.001, momentum=0.01, affine=True, track_running_stats=True)\n",
      "          (2): Hardswish()\n",
      "        )\n",
      "        (1): ConvBNActivation(\n",
      "          (0): Conv2d(184, 184, kernel_size=(3, 3), stride=(1, 1), padding=(1, 1), groups=184, bias=False)\n",
      "          (1): BatchNorm2d(184, eps=0.001, momentum=0.01, affine=True, track_running_stats=True)\n",
      "          (2): Hardswish()\n",
      "        )\n",
      "        (2): ConvBNActivation(\n",
      "          (0): Conv2d(184, 80, kernel_size=(1, 1), stride=(1, 1), bias=False)\n",
      "          (1): BatchNorm2d(80, eps=0.001, momentum=0.01, affine=True, track_running_stats=True)\n",
      "          (2): Identity()\n",
      "        )\n",
      "      )\n",
      "    )\n",
      "    (10): InvertedResidual(\n",
      "      (block): Sequential(\n",
      "        (0): ConvBNActivation(\n",
      "          (0): Conv2d(80, 184, kernel_size=(1, 1), stride=(1, 1), bias=False)\n",
      "          (1): BatchNorm2d(184, eps=0.001, momentum=0.01, affine=True, track_running_stats=True)\n",
      "          (2): Hardswish()\n",
      "        )\n",
      "        (1): ConvBNActivation(\n",
      "          (0): Conv2d(184, 184, kernel_size=(3, 3), stride=(1, 1), padding=(1, 1), groups=184, bias=False)\n",
      "          (1): BatchNorm2d(184, eps=0.001, momentum=0.01, affine=True, track_running_stats=True)\n",
      "          (2): Hardswish()\n",
      "        )\n",
      "        (2): ConvBNActivation(\n",
      "          (0): Conv2d(184, 80, kernel_size=(1, 1), stride=(1, 1), bias=False)\n",
      "          (1): BatchNorm2d(80, eps=0.001, momentum=0.01, affine=True, track_running_stats=True)\n",
      "          (2): Identity()\n",
      "        )\n",
      "      )\n",
      "    )\n",
      "    (11): InvertedResidual(\n",
      "      (block): Sequential(\n",
      "        (0): ConvBNActivation(\n",
      "          (0): Conv2d(80, 480, kernel_size=(1, 1), stride=(1, 1), bias=False)\n",
      "          (1): BatchNorm2d(480, eps=0.001, momentum=0.01, affine=True, track_running_stats=True)\n",
      "          (2): Hardswish()\n",
      "        )\n",
      "        (1): ConvBNActivation(\n",
      "          (0): Conv2d(480, 480, kernel_size=(3, 3), stride=(1, 1), padding=(1, 1), groups=480, bias=False)\n",
      "          (1): BatchNorm2d(480, eps=0.001, momentum=0.01, affine=True, track_running_stats=True)\n",
      "          (2): Hardswish()\n",
      "        )\n",
      "        (2): SqueezeExcitation(\n",
      "          (fc1): Conv2d(480, 120, kernel_size=(1, 1), stride=(1, 1))\n",
      "          (relu): ReLU(inplace=True)\n",
      "          (fc2): Conv2d(120, 480, kernel_size=(1, 1), stride=(1, 1))\n",
      "        )\n",
      "        (3): ConvBNActivation(\n",
      "          (0): Conv2d(480, 112, kernel_size=(1, 1), stride=(1, 1), bias=False)\n",
      "          (1): BatchNorm2d(112, eps=0.001, momentum=0.01, affine=True, track_running_stats=True)\n",
      "          (2): Identity()\n",
      "        )\n",
      "      )\n",
      "    )\n",
      "    (12): InvertedResidual(\n",
      "      (block): Sequential(\n",
      "        (0): ConvBNActivation(\n",
      "          (0): Conv2d(112, 672, kernel_size=(1, 1), stride=(1, 1), bias=False)\n",
      "          (1): BatchNorm2d(672, eps=0.001, momentum=0.01, affine=True, track_running_stats=True)\n",
      "          (2): Hardswish()\n",
      "        )\n",
      "        (1): ConvBNActivation(\n",
      "          (0): Conv2d(672, 672, kernel_size=(3, 3), stride=(1, 1), padding=(1, 1), groups=672, bias=False)\n",
      "          (1): BatchNorm2d(672, eps=0.001, momentum=0.01, affine=True, track_running_stats=True)\n",
      "          (2): Hardswish()\n",
      "        )\n",
      "        (2): SqueezeExcitation(\n",
      "          (fc1): Conv2d(672, 168, kernel_size=(1, 1), stride=(1, 1))\n",
      "          (relu): ReLU(inplace=True)\n",
      "          (fc2): Conv2d(168, 672, kernel_size=(1, 1), stride=(1, 1))\n",
      "        )\n",
      "        (3): ConvBNActivation(\n",
      "          (0): Conv2d(672, 112, kernel_size=(1, 1), stride=(1, 1), bias=False)\n",
      "          (1): BatchNorm2d(112, eps=0.001, momentum=0.01, affine=True, track_running_stats=True)\n",
      "          (2): Identity()\n",
      "        )\n",
      "      )\n",
      "    )\n",
      "    (13): InvertedResidual(\n",
      "      (block): Sequential(\n",
      "        (0): ConvBNActivation(\n",
      "          (0): Conv2d(112, 672, kernel_size=(1, 1), stride=(1, 1), bias=False)\n",
      "          (1): BatchNorm2d(672, eps=0.001, momentum=0.01, affine=True, track_running_stats=True)\n",
      "          (2): Hardswish()\n",
      "        )\n",
      "        (1): ConvBNActivation(\n",
      "          (0): Conv2d(672, 672, kernel_size=(5, 5), stride=(2, 2), padding=(2, 2), groups=672, bias=False)\n",
      "          (1): BatchNorm2d(672, eps=0.001, momentum=0.01, affine=True, track_running_stats=True)\n",
      "          (2): Hardswish()\n",
      "        )\n",
      "        (2): SqueezeExcitation(\n",
      "          (fc1): Conv2d(672, 168, kernel_size=(1, 1), stride=(1, 1))\n",
      "          (relu): ReLU(inplace=True)\n",
      "          (fc2): Conv2d(168, 672, kernel_size=(1, 1), stride=(1, 1))\n",
      "        )\n",
      "        (3): ConvBNActivation(\n",
      "          (0): Conv2d(672, 160, kernel_size=(1, 1), stride=(1, 1), bias=False)\n",
      "          (1): BatchNorm2d(160, eps=0.001, momentum=0.01, affine=True, track_running_stats=True)\n",
      "          (2): Identity()\n",
      "        )\n",
      "      )\n",
      "    )\n",
      "    (14): InvertedResidual(\n",
      "      (block): Sequential(\n",
      "        (0): ConvBNActivation(\n",
      "          (0): Conv2d(160, 960, kernel_size=(1, 1), stride=(1, 1), bias=False)\n",
      "          (1): BatchNorm2d(960, eps=0.001, momentum=0.01, affine=True, track_running_stats=True)\n",
      "          (2): Hardswish()\n",
      "        )\n",
      "        (1): ConvBNActivation(\n",
      "          (0): Conv2d(960, 960, kernel_size=(5, 5), stride=(1, 1), padding=(2, 2), groups=960, bias=False)\n",
      "          (1): BatchNorm2d(960, eps=0.001, momentum=0.01, affine=True, track_running_stats=True)\n",
      "          (2): Hardswish()\n",
      "        )\n",
      "        (2): SqueezeExcitation(\n",
      "          (fc1): Conv2d(960, 240, kernel_size=(1, 1), stride=(1, 1))\n",
      "          (relu): ReLU(inplace=True)\n",
      "          (fc2): Conv2d(240, 960, kernel_size=(1, 1), stride=(1, 1))\n",
      "        )\n",
      "        (3): ConvBNActivation(\n",
      "          (0): Conv2d(960, 160, kernel_size=(1, 1), stride=(1, 1), bias=False)\n",
      "          (1): BatchNorm2d(160, eps=0.001, momentum=0.01, affine=True, track_running_stats=True)\n",
      "          (2): Identity()\n",
      "        )\n",
      "      )\n",
      "    )\n",
      "    (15): InvertedResidual(\n",
      "      (block): Sequential(\n",
      "        (0): ConvBNActivation(\n",
      "          (0): Conv2d(160, 960, kernel_size=(1, 1), stride=(1, 1), bias=False)\n",
      "          (1): BatchNorm2d(960, eps=0.001, momentum=0.01, affine=True, track_running_stats=True)\n",
      "          (2): Hardswish()\n",
      "        )\n",
      "        (1): ConvBNActivation(\n",
      "          (0): Conv2d(960, 960, kernel_size=(5, 5), stride=(1, 1), padding=(2, 2), groups=960, bias=False)\n",
      "          (1): BatchNorm2d(960, eps=0.001, momentum=0.01, affine=True, track_running_stats=True)\n",
      "          (2): Hardswish()\n",
      "        )\n",
      "        (2): SqueezeExcitation(\n",
      "          (fc1): Conv2d(960, 240, kernel_size=(1, 1), stride=(1, 1))\n",
      "          (relu): ReLU(inplace=True)\n",
      "          (fc2): Conv2d(240, 960, kernel_size=(1, 1), stride=(1, 1))\n",
      "        )\n",
      "        (3): ConvBNActivation(\n",
      "          (0): Conv2d(960, 160, kernel_size=(1, 1), stride=(1, 1), bias=False)\n",
      "          (1): BatchNorm2d(160, eps=0.001, momentum=0.01, affine=True, track_running_stats=True)\n",
      "          (2): Identity()\n",
      "        )\n",
      "      )\n",
      "    )\n",
      "    (16): ConvBNActivation(\n",
      "      (0): Conv2d(160, 960, kernel_size=(1, 1), stride=(1, 1), bias=False)\n",
      "      (1): BatchNorm2d(960, eps=0.001, momentum=0.01, affine=True, track_running_stats=True)\n",
      "      (2): Hardswish()\n",
      "    )\n",
      "  )\n",
      "  (avgpool): AdaptiveAvgPool2d(output_size=1)\n",
      "  (classifier): Sequential(\n",
      "    (0): Linear(in_features=960, out_features=1280, bias=True)\n",
      "    (1): Hardswish()\n",
      "    (2): Dropout(p=0.2, inplace=True)\n",
      "    (3): Linear(in_features=1280, out_features=2, bias=True)\n",
      "  )\n",
      ")\n"
     ]
    }
   ],
   "source": [
    "model = models.mobilenet_v3_large()\n",
    "fc_in_features = model.classifier[0].out_features # 最終レイヤー関数の次元数\n",
    "model.classifier[3] = nn.Linear(fc_in_features, opt.num_classes) # 最終レイヤー関数の付け替え\n",
    "print(model)"
   ]
  },
  {
   "cell_type": "code",
   "execution_count": 8,
   "id": "49f3a7d1",
   "metadata": {
    "execution": {
     "iopub.execute_input": "2022-05-20T22:49:41.084900Z",
     "iopub.status.busy": "2022-05-20T22:49:41.084259Z",
     "iopub.status.idle": "2022-05-20T22:49:41.551031Z",
     "shell.execute_reply": "2022-05-20T22:49:41.551538Z",
     "shell.execute_reply.started": "2022-05-20T22:43:00.503550Z"
    },
    "papermill": {
     "duration": 0.540118,
     "end_time": "2022-05-20T22:49:41.551683",
     "exception": false,
     "start_time": "2022-05-20T22:49:41.011565",
     "status": "completed"
    },
    "tags": []
   },
   "outputs": [
    {
     "data": {
      "text/plain": [
       "<All keys matched successfully>"
      ]
     },
     "execution_count": 8,
     "metadata": {},
     "output_type": "execute_result"
    }
   ],
   "source": [
    "# 学習済みモデルの読み込み\n",
    "model.load_state_dict(torch.load(model_path, map_location=torch.device('cpu'))) # 学習済みモデルの読み込み"
   ]
  },
  {
   "cell_type": "code",
   "execution_count": 9,
   "id": "0342476b",
   "metadata": {
    "execution": {
     "iopub.execute_input": "2022-05-20T22:49:41.692720Z",
     "iopub.status.busy": "2022-05-20T22:49:41.692112Z",
     "iopub.status.idle": "2022-05-20T22:49:41.708474Z",
     "shell.execute_reply": "2022-05-20T22:49:41.707971Z",
     "shell.execute_reply.started": "2022-05-20T22:43:00.806089Z"
    },
    "papermill": {
     "duration": 0.087616,
     "end_time": "2022-05-20T22:49:41.708593",
     "exception": false,
     "start_time": "2022-05-20T22:49:41.620977",
     "status": "completed"
    },
    "tags": []
   },
   "outputs": [
    {
     "data": {
      "text/plain": [
       "MobileNetV3(\n",
       "  (features): Sequential(\n",
       "    (0): ConvBNActivation(\n",
       "      (0): Conv2d(3, 16, kernel_size=(3, 3), stride=(2, 2), padding=(1, 1), bias=False)\n",
       "      (1): BatchNorm2d(16, eps=0.001, momentum=0.01, affine=True, track_running_stats=True)\n",
       "      (2): Hardswish()\n",
       "    )\n",
       "    (1): InvertedResidual(\n",
       "      (block): Sequential(\n",
       "        (0): ConvBNActivation(\n",
       "          (0): Conv2d(16, 16, kernel_size=(3, 3), stride=(1, 1), padding=(1, 1), groups=16, bias=False)\n",
       "          (1): BatchNorm2d(16, eps=0.001, momentum=0.01, affine=True, track_running_stats=True)\n",
       "          (2): ReLU(inplace=True)\n",
       "        )\n",
       "        (1): ConvBNActivation(\n",
       "          (0): Conv2d(16, 16, kernel_size=(1, 1), stride=(1, 1), bias=False)\n",
       "          (1): BatchNorm2d(16, eps=0.001, momentum=0.01, affine=True, track_running_stats=True)\n",
       "          (2): Identity()\n",
       "        )\n",
       "      )\n",
       "    )\n",
       "    (2): InvertedResidual(\n",
       "      (block): Sequential(\n",
       "        (0): ConvBNActivation(\n",
       "          (0): Conv2d(16, 64, kernel_size=(1, 1), stride=(1, 1), bias=False)\n",
       "          (1): BatchNorm2d(64, eps=0.001, momentum=0.01, affine=True, track_running_stats=True)\n",
       "          (2): ReLU(inplace=True)\n",
       "        )\n",
       "        (1): ConvBNActivation(\n",
       "          (0): Conv2d(64, 64, kernel_size=(3, 3), stride=(2, 2), padding=(1, 1), groups=64, bias=False)\n",
       "          (1): BatchNorm2d(64, eps=0.001, momentum=0.01, affine=True, track_running_stats=True)\n",
       "          (2): ReLU(inplace=True)\n",
       "        )\n",
       "        (2): ConvBNActivation(\n",
       "          (0): Conv2d(64, 24, kernel_size=(1, 1), stride=(1, 1), bias=False)\n",
       "          (1): BatchNorm2d(24, eps=0.001, momentum=0.01, affine=True, track_running_stats=True)\n",
       "          (2): Identity()\n",
       "        )\n",
       "      )\n",
       "    )\n",
       "    (3): InvertedResidual(\n",
       "      (block): Sequential(\n",
       "        (0): ConvBNActivation(\n",
       "          (0): Conv2d(24, 72, kernel_size=(1, 1), stride=(1, 1), bias=False)\n",
       "          (1): BatchNorm2d(72, eps=0.001, momentum=0.01, affine=True, track_running_stats=True)\n",
       "          (2): ReLU(inplace=True)\n",
       "        )\n",
       "        (1): ConvBNActivation(\n",
       "          (0): Conv2d(72, 72, kernel_size=(3, 3), stride=(1, 1), padding=(1, 1), groups=72, bias=False)\n",
       "          (1): BatchNorm2d(72, eps=0.001, momentum=0.01, affine=True, track_running_stats=True)\n",
       "          (2): ReLU(inplace=True)\n",
       "        )\n",
       "        (2): ConvBNActivation(\n",
       "          (0): Conv2d(72, 24, kernel_size=(1, 1), stride=(1, 1), bias=False)\n",
       "          (1): BatchNorm2d(24, eps=0.001, momentum=0.01, affine=True, track_running_stats=True)\n",
       "          (2): Identity()\n",
       "        )\n",
       "      )\n",
       "    )\n",
       "    (4): InvertedResidual(\n",
       "      (block): Sequential(\n",
       "        (0): ConvBNActivation(\n",
       "          (0): Conv2d(24, 72, kernel_size=(1, 1), stride=(1, 1), bias=False)\n",
       "          (1): BatchNorm2d(72, eps=0.001, momentum=0.01, affine=True, track_running_stats=True)\n",
       "          (2): ReLU(inplace=True)\n",
       "        )\n",
       "        (1): ConvBNActivation(\n",
       "          (0): Conv2d(72, 72, kernel_size=(5, 5), stride=(2, 2), padding=(2, 2), groups=72, bias=False)\n",
       "          (1): BatchNorm2d(72, eps=0.001, momentum=0.01, affine=True, track_running_stats=True)\n",
       "          (2): ReLU(inplace=True)\n",
       "        )\n",
       "        (2): SqueezeExcitation(\n",
       "          (fc1): Conv2d(72, 24, kernel_size=(1, 1), stride=(1, 1))\n",
       "          (relu): ReLU(inplace=True)\n",
       "          (fc2): Conv2d(24, 72, kernel_size=(1, 1), stride=(1, 1))\n",
       "        )\n",
       "        (3): ConvBNActivation(\n",
       "          (0): Conv2d(72, 40, kernel_size=(1, 1), stride=(1, 1), bias=False)\n",
       "          (1): BatchNorm2d(40, eps=0.001, momentum=0.01, affine=True, track_running_stats=True)\n",
       "          (2): Identity()\n",
       "        )\n",
       "      )\n",
       "    )\n",
       "    (5): InvertedResidual(\n",
       "      (block): Sequential(\n",
       "        (0): ConvBNActivation(\n",
       "          (0): Conv2d(40, 120, kernel_size=(1, 1), stride=(1, 1), bias=False)\n",
       "          (1): BatchNorm2d(120, eps=0.001, momentum=0.01, affine=True, track_running_stats=True)\n",
       "          (2): ReLU(inplace=True)\n",
       "        )\n",
       "        (1): ConvBNActivation(\n",
       "          (0): Conv2d(120, 120, kernel_size=(5, 5), stride=(1, 1), padding=(2, 2), groups=120, bias=False)\n",
       "          (1): BatchNorm2d(120, eps=0.001, momentum=0.01, affine=True, track_running_stats=True)\n",
       "          (2): ReLU(inplace=True)\n",
       "        )\n",
       "        (2): SqueezeExcitation(\n",
       "          (fc1): Conv2d(120, 32, kernel_size=(1, 1), stride=(1, 1))\n",
       "          (relu): ReLU(inplace=True)\n",
       "          (fc2): Conv2d(32, 120, kernel_size=(1, 1), stride=(1, 1))\n",
       "        )\n",
       "        (3): ConvBNActivation(\n",
       "          (0): Conv2d(120, 40, kernel_size=(1, 1), stride=(1, 1), bias=False)\n",
       "          (1): BatchNorm2d(40, eps=0.001, momentum=0.01, affine=True, track_running_stats=True)\n",
       "          (2): Identity()\n",
       "        )\n",
       "      )\n",
       "    )\n",
       "    (6): InvertedResidual(\n",
       "      (block): Sequential(\n",
       "        (0): ConvBNActivation(\n",
       "          (0): Conv2d(40, 120, kernel_size=(1, 1), stride=(1, 1), bias=False)\n",
       "          (1): BatchNorm2d(120, eps=0.001, momentum=0.01, affine=True, track_running_stats=True)\n",
       "          (2): ReLU(inplace=True)\n",
       "        )\n",
       "        (1): ConvBNActivation(\n",
       "          (0): Conv2d(120, 120, kernel_size=(5, 5), stride=(1, 1), padding=(2, 2), groups=120, bias=False)\n",
       "          (1): BatchNorm2d(120, eps=0.001, momentum=0.01, affine=True, track_running_stats=True)\n",
       "          (2): ReLU(inplace=True)\n",
       "        )\n",
       "        (2): SqueezeExcitation(\n",
       "          (fc1): Conv2d(120, 32, kernel_size=(1, 1), stride=(1, 1))\n",
       "          (relu): ReLU(inplace=True)\n",
       "          (fc2): Conv2d(32, 120, kernel_size=(1, 1), stride=(1, 1))\n",
       "        )\n",
       "        (3): ConvBNActivation(\n",
       "          (0): Conv2d(120, 40, kernel_size=(1, 1), stride=(1, 1), bias=False)\n",
       "          (1): BatchNorm2d(40, eps=0.001, momentum=0.01, affine=True, track_running_stats=True)\n",
       "          (2): Identity()\n",
       "        )\n",
       "      )\n",
       "    )\n",
       "    (7): InvertedResidual(\n",
       "      (block): Sequential(\n",
       "        (0): ConvBNActivation(\n",
       "          (0): Conv2d(40, 240, kernel_size=(1, 1), stride=(1, 1), bias=False)\n",
       "          (1): BatchNorm2d(240, eps=0.001, momentum=0.01, affine=True, track_running_stats=True)\n",
       "          (2): Hardswish()\n",
       "        )\n",
       "        (1): ConvBNActivation(\n",
       "          (0): Conv2d(240, 240, kernel_size=(3, 3), stride=(2, 2), padding=(1, 1), groups=240, bias=False)\n",
       "          (1): BatchNorm2d(240, eps=0.001, momentum=0.01, affine=True, track_running_stats=True)\n",
       "          (2): Hardswish()\n",
       "        )\n",
       "        (2): ConvBNActivation(\n",
       "          (0): Conv2d(240, 80, kernel_size=(1, 1), stride=(1, 1), bias=False)\n",
       "          (1): BatchNorm2d(80, eps=0.001, momentum=0.01, affine=True, track_running_stats=True)\n",
       "          (2): Identity()\n",
       "        )\n",
       "      )\n",
       "    )\n",
       "    (8): InvertedResidual(\n",
       "      (block): Sequential(\n",
       "        (0): ConvBNActivation(\n",
       "          (0): Conv2d(80, 200, kernel_size=(1, 1), stride=(1, 1), bias=False)\n",
       "          (1): BatchNorm2d(200, eps=0.001, momentum=0.01, affine=True, track_running_stats=True)\n",
       "          (2): Hardswish()\n",
       "        )\n",
       "        (1): ConvBNActivation(\n",
       "          (0): Conv2d(200, 200, kernel_size=(3, 3), stride=(1, 1), padding=(1, 1), groups=200, bias=False)\n",
       "          (1): BatchNorm2d(200, eps=0.001, momentum=0.01, affine=True, track_running_stats=True)\n",
       "          (2): Hardswish()\n",
       "        )\n",
       "        (2): ConvBNActivation(\n",
       "          (0): Conv2d(200, 80, kernel_size=(1, 1), stride=(1, 1), bias=False)\n",
       "          (1): BatchNorm2d(80, eps=0.001, momentum=0.01, affine=True, track_running_stats=True)\n",
       "          (2): Identity()\n",
       "        )\n",
       "      )\n",
       "    )\n",
       "    (9): InvertedResidual(\n",
       "      (block): Sequential(\n",
       "        (0): ConvBNActivation(\n",
       "          (0): Conv2d(80, 184, kernel_size=(1, 1), stride=(1, 1), bias=False)\n",
       "          (1): BatchNorm2d(184, eps=0.001, momentum=0.01, affine=True, track_running_stats=True)\n",
       "          (2): Hardswish()\n",
       "        )\n",
       "        (1): ConvBNActivation(\n",
       "          (0): Conv2d(184, 184, kernel_size=(3, 3), stride=(1, 1), padding=(1, 1), groups=184, bias=False)\n",
       "          (1): BatchNorm2d(184, eps=0.001, momentum=0.01, affine=True, track_running_stats=True)\n",
       "          (2): Hardswish()\n",
       "        )\n",
       "        (2): ConvBNActivation(\n",
       "          (0): Conv2d(184, 80, kernel_size=(1, 1), stride=(1, 1), bias=False)\n",
       "          (1): BatchNorm2d(80, eps=0.001, momentum=0.01, affine=True, track_running_stats=True)\n",
       "          (2): Identity()\n",
       "        )\n",
       "      )\n",
       "    )\n",
       "    (10): InvertedResidual(\n",
       "      (block): Sequential(\n",
       "        (0): ConvBNActivation(\n",
       "          (0): Conv2d(80, 184, kernel_size=(1, 1), stride=(1, 1), bias=False)\n",
       "          (1): BatchNorm2d(184, eps=0.001, momentum=0.01, affine=True, track_running_stats=True)\n",
       "          (2): Hardswish()\n",
       "        )\n",
       "        (1): ConvBNActivation(\n",
       "          (0): Conv2d(184, 184, kernel_size=(3, 3), stride=(1, 1), padding=(1, 1), groups=184, bias=False)\n",
       "          (1): BatchNorm2d(184, eps=0.001, momentum=0.01, affine=True, track_running_stats=True)\n",
       "          (2): Hardswish()\n",
       "        )\n",
       "        (2): ConvBNActivation(\n",
       "          (0): Conv2d(184, 80, kernel_size=(1, 1), stride=(1, 1), bias=False)\n",
       "          (1): BatchNorm2d(80, eps=0.001, momentum=0.01, affine=True, track_running_stats=True)\n",
       "          (2): Identity()\n",
       "        )\n",
       "      )\n",
       "    )\n",
       "    (11): InvertedResidual(\n",
       "      (block): Sequential(\n",
       "        (0): ConvBNActivation(\n",
       "          (0): Conv2d(80, 480, kernel_size=(1, 1), stride=(1, 1), bias=False)\n",
       "          (1): BatchNorm2d(480, eps=0.001, momentum=0.01, affine=True, track_running_stats=True)\n",
       "          (2): Hardswish()\n",
       "        )\n",
       "        (1): ConvBNActivation(\n",
       "          (0): Conv2d(480, 480, kernel_size=(3, 3), stride=(1, 1), padding=(1, 1), groups=480, bias=False)\n",
       "          (1): BatchNorm2d(480, eps=0.001, momentum=0.01, affine=True, track_running_stats=True)\n",
       "          (2): Hardswish()\n",
       "        )\n",
       "        (2): SqueezeExcitation(\n",
       "          (fc1): Conv2d(480, 120, kernel_size=(1, 1), stride=(1, 1))\n",
       "          (relu): ReLU(inplace=True)\n",
       "          (fc2): Conv2d(120, 480, kernel_size=(1, 1), stride=(1, 1))\n",
       "        )\n",
       "        (3): ConvBNActivation(\n",
       "          (0): Conv2d(480, 112, kernel_size=(1, 1), stride=(1, 1), bias=False)\n",
       "          (1): BatchNorm2d(112, eps=0.001, momentum=0.01, affine=True, track_running_stats=True)\n",
       "          (2): Identity()\n",
       "        )\n",
       "      )\n",
       "    )\n",
       "    (12): InvertedResidual(\n",
       "      (block): Sequential(\n",
       "        (0): ConvBNActivation(\n",
       "          (0): Conv2d(112, 672, kernel_size=(1, 1), stride=(1, 1), bias=False)\n",
       "          (1): BatchNorm2d(672, eps=0.001, momentum=0.01, affine=True, track_running_stats=True)\n",
       "          (2): Hardswish()\n",
       "        )\n",
       "        (1): ConvBNActivation(\n",
       "          (0): Conv2d(672, 672, kernel_size=(3, 3), stride=(1, 1), padding=(1, 1), groups=672, bias=False)\n",
       "          (1): BatchNorm2d(672, eps=0.001, momentum=0.01, affine=True, track_running_stats=True)\n",
       "          (2): Hardswish()\n",
       "        )\n",
       "        (2): SqueezeExcitation(\n",
       "          (fc1): Conv2d(672, 168, kernel_size=(1, 1), stride=(1, 1))\n",
       "          (relu): ReLU(inplace=True)\n",
       "          (fc2): Conv2d(168, 672, kernel_size=(1, 1), stride=(1, 1))\n",
       "        )\n",
       "        (3): ConvBNActivation(\n",
       "          (0): Conv2d(672, 112, kernel_size=(1, 1), stride=(1, 1), bias=False)\n",
       "          (1): BatchNorm2d(112, eps=0.001, momentum=0.01, affine=True, track_running_stats=True)\n",
       "          (2): Identity()\n",
       "        )\n",
       "      )\n",
       "    )\n",
       "    (13): InvertedResidual(\n",
       "      (block): Sequential(\n",
       "        (0): ConvBNActivation(\n",
       "          (0): Conv2d(112, 672, kernel_size=(1, 1), stride=(1, 1), bias=False)\n",
       "          (1): BatchNorm2d(672, eps=0.001, momentum=0.01, affine=True, track_running_stats=True)\n",
       "          (2): Hardswish()\n",
       "        )\n",
       "        (1): ConvBNActivation(\n",
       "          (0): Conv2d(672, 672, kernel_size=(5, 5), stride=(2, 2), padding=(2, 2), groups=672, bias=False)\n",
       "          (1): BatchNorm2d(672, eps=0.001, momentum=0.01, affine=True, track_running_stats=True)\n",
       "          (2): Hardswish()\n",
       "        )\n",
       "        (2): SqueezeExcitation(\n",
       "          (fc1): Conv2d(672, 168, kernel_size=(1, 1), stride=(1, 1))\n",
       "          (relu): ReLU(inplace=True)\n",
       "          (fc2): Conv2d(168, 672, kernel_size=(1, 1), stride=(1, 1))\n",
       "        )\n",
       "        (3): ConvBNActivation(\n",
       "          (0): Conv2d(672, 160, kernel_size=(1, 1), stride=(1, 1), bias=False)\n",
       "          (1): BatchNorm2d(160, eps=0.001, momentum=0.01, affine=True, track_running_stats=True)\n",
       "          (2): Identity()\n",
       "        )\n",
       "      )\n",
       "    )\n",
       "    (14): InvertedResidual(\n",
       "      (block): Sequential(\n",
       "        (0): ConvBNActivation(\n",
       "          (0): Conv2d(160, 960, kernel_size=(1, 1), stride=(1, 1), bias=False)\n",
       "          (1): BatchNorm2d(960, eps=0.001, momentum=0.01, affine=True, track_running_stats=True)\n",
       "          (2): Hardswish()\n",
       "        )\n",
       "        (1): ConvBNActivation(\n",
       "          (0): Conv2d(960, 960, kernel_size=(5, 5), stride=(1, 1), padding=(2, 2), groups=960, bias=False)\n",
       "          (1): BatchNorm2d(960, eps=0.001, momentum=0.01, affine=True, track_running_stats=True)\n",
       "          (2): Hardswish()\n",
       "        )\n",
       "        (2): SqueezeExcitation(\n",
       "          (fc1): Conv2d(960, 240, kernel_size=(1, 1), stride=(1, 1))\n",
       "          (relu): ReLU(inplace=True)\n",
       "          (fc2): Conv2d(240, 960, kernel_size=(1, 1), stride=(1, 1))\n",
       "        )\n",
       "        (3): ConvBNActivation(\n",
       "          (0): Conv2d(960, 160, kernel_size=(1, 1), stride=(1, 1), bias=False)\n",
       "          (1): BatchNorm2d(160, eps=0.001, momentum=0.01, affine=True, track_running_stats=True)\n",
       "          (2): Identity()\n",
       "        )\n",
       "      )\n",
       "    )\n",
       "    (15): InvertedResidual(\n",
       "      (block): Sequential(\n",
       "        (0): ConvBNActivation(\n",
       "          (0): Conv2d(160, 960, kernel_size=(1, 1), stride=(1, 1), bias=False)\n",
       "          (1): BatchNorm2d(960, eps=0.001, momentum=0.01, affine=True, track_running_stats=True)\n",
       "          (2): Hardswish()\n",
       "        )\n",
       "        (1): ConvBNActivation(\n",
       "          (0): Conv2d(960, 960, kernel_size=(5, 5), stride=(1, 1), padding=(2, 2), groups=960, bias=False)\n",
       "          (1): BatchNorm2d(960, eps=0.001, momentum=0.01, affine=True, track_running_stats=True)\n",
       "          (2): Hardswish()\n",
       "        )\n",
       "        (2): SqueezeExcitation(\n",
       "          (fc1): Conv2d(960, 240, kernel_size=(1, 1), stride=(1, 1))\n",
       "          (relu): ReLU(inplace=True)\n",
       "          (fc2): Conv2d(240, 960, kernel_size=(1, 1), stride=(1, 1))\n",
       "        )\n",
       "        (3): ConvBNActivation(\n",
       "          (0): Conv2d(960, 160, kernel_size=(1, 1), stride=(1, 1), bias=False)\n",
       "          (1): BatchNorm2d(160, eps=0.001, momentum=0.01, affine=True, track_running_stats=True)\n",
       "          (2): Identity()\n",
       "        )\n",
       "      )\n",
       "    )\n",
       "    (16): ConvBNActivation(\n",
       "      (0): Conv2d(160, 960, kernel_size=(1, 1), stride=(1, 1), bias=False)\n",
       "      (1): BatchNorm2d(960, eps=0.001, momentum=0.01, affine=True, track_running_stats=True)\n",
       "      (2): Hardswish()\n",
       "    )\n",
       "  )\n",
       "  (avgpool): AdaptiveAvgPool2d(output_size=1)\n",
       "  (classifier): Sequential(\n",
       "    (0): Linear(in_features=960, out_features=1280, bias=True)\n",
       "    (1): Hardswish()\n",
       "    (2): Dropout(p=0.2, inplace=True)\n",
       "    (3): Linear(in_features=1280, out_features=2, bias=True)\n",
       "  )\n",
       ")"
      ]
     },
     "execution_count": 9,
     "metadata": {},
     "output_type": "execute_result"
    }
   ],
   "source": [
    "# モデルをGPUに送る\n",
    "model.to(device)"
   ]
  },
  {
   "cell_type": "markdown",
   "id": "e4204d73",
   "metadata": {
    "papermill": {
     "duration": 0.069965,
     "end_time": "2022-05-20T22:49:41.848843",
     "exception": false,
     "start_time": "2022-05-20T22:49:41.778878",
     "status": "completed"
    },
    "tags": []
   },
   "source": [
    "# transform"
   ]
  },
  {
   "cell_type": "code",
   "execution_count": 10,
   "id": "c0a27ada",
   "metadata": {
    "execution": {
     "iopub.execute_input": "2022-05-20T22:49:41.994412Z",
     "iopub.status.busy": "2022-05-20T22:49:41.993807Z",
     "iopub.status.idle": "2022-05-20T22:49:41.996252Z",
     "shell.execute_reply": "2022-05-20T22:49:41.995855Z",
     "shell.execute_reply.started": "2022-05-20T22:43:00.826891Z"
    },
    "papermill": {
     "duration": 0.077187,
     "end_time": "2022-05-20T22:49:41.996359",
     "exception": false,
     "start_time": "2022-05-20T22:49:41.919172",
     "status": "completed"
    },
    "tags": []
   },
   "outputs": [],
   "source": [
    "# 両サイドを10%切り取るクラス\n",
    "class SideCrop():\n",
    "    def __call__(self, image):\n",
    "        w, h = image.size\n",
    "        w1 = 0.05 * w\n",
    "        h1 = 0.05 * h\n",
    "        image_crop = image.crop((w1, 0, w-w1, h)) # (left, upper, right, lower)\n",
    "        return image_crop"
   ]
  },
  {
   "cell_type": "code",
   "execution_count": 11,
   "id": "268d4b6e",
   "metadata": {
    "execution": {
     "iopub.execute_input": "2022-05-20T22:49:42.092806Z",
     "iopub.status.busy": "2022-05-20T22:49:42.092140Z",
     "iopub.status.idle": "2022-05-20T22:49:42.097983Z",
     "shell.execute_reply": "2022-05-20T22:49:42.098379Z",
     "shell.execute_reply.started": "2022-05-20T22:43:00.833661Z"
    },
    "papermill": {
     "duration": 0.054906,
     "end_time": "2022-05-20T22:49:42.098516",
     "exception": false,
     "start_time": "2022-05-20T22:49:42.043610",
     "status": "completed"
    },
    "tags": []
   },
   "outputs": [],
   "source": [
    "# transformの設定\n",
    "transform = {\n",
    "    'train': transforms.Compose([\n",
    "        SideCrop(),\n",
    "        transforms.Resize((opt.image_size,opt.image_size)),\n",
    "        transforms.RandomHorizontalFlip(p=0.5),\n",
    "        transforms.RandomVerticalFlip(p=0.5),\n",
    "        transforms.RandomAffine(degrees=[-10, 10], translate=(0.1, 0.1), scale=(0.5, 1.5)),\n",
    "        transforms.RandomRotation(degrees=10),\n",
    "        transforms.ToTensor(),\n",
    "        transforms.Normalize([0.485, 0.456, 0.406], [0.229, 0.224, 0.225]),\n",
    "        ]),\n",
    "    'val': transforms.Compose([\n",
    "        SideCrop(),\n",
    "        transforms.Resize((opt.image_size,opt.image_size)),\n",
    "        transforms.ToTensor(),\n",
    "        transforms.Normalize([0.485, 0.456, 0.406], [0.229, 0.224, 0.225]),\n",
    "        ]),\n",
    "}"
   ]
  },
  {
   "cell_type": "code",
   "execution_count": 12,
   "id": "35319ed1",
   "metadata": {
    "execution": {
     "iopub.execute_input": "2022-05-20T22:49:42.194946Z",
     "iopub.status.busy": "2022-05-20T22:49:42.194273Z",
     "iopub.status.idle": "2022-05-20T22:49:42.199660Z",
     "shell.execute_reply": "2022-05-20T22:49:42.200070Z",
     "shell.execute_reply.started": "2022-05-20T22:43:00.848987Z"
    },
    "papermill": {
     "duration": 0.054447,
     "end_time": "2022-05-20T22:49:42.200180",
     "exception": false,
     "start_time": "2022-05-20T22:49:42.145733",
     "status": "completed"
    },
    "tags": []
   },
   "outputs": [],
   "source": [
    "# Datasetの設定\n",
    "class XrayDataset(Dataset):\n",
    "    def __init__(self, image_name_list, label_list, img_dir, transform=None, phase=None):\n",
    "        self.image_name_list = image_name_list # 画像ファイル名\n",
    "        self.label_list = label_list # ラベル\n",
    "        self.img_dir = img_dir # 画像データのディレクトリ\n",
    "        self.phase = phase # 変数phaseで学習(train)もしくは検証(val)の設定を行う\n",
    "        self.transform = transform\n",
    "\n",
    "    def __len__(self):\n",
    "        return len(self.image_name_list) # 1エポックあたりに読み込むデータ数として、入力データの数を指定\n",
    "\n",
    "    def __getitem__(self, index):\n",
    "        \n",
    "        # index番目の画像を読み込み、前処理を行う\n",
    "        image_path = os.path.join(self.img_dir, self.image_name_list[index]) # train_master.iloc[index, 0]はファイル名を抽出\n",
    "        img = Image.open(image_path).convert('RGB')\n",
    "        img = self.transform[self.phase](img)\n",
    "        \n",
    "        # index番目のラベルを取得する\n",
    "        label = self.label_list[index]\n",
    "        \n",
    "        return img, label"
   ]
  },
  {
   "cell_type": "markdown",
   "id": "3ff69099",
   "metadata": {
    "papermill": {
     "duration": 0.04575,
     "end_time": "2022-05-20T22:49:42.292248",
     "exception": false,
     "start_time": "2022-05-20T22:49:42.246498",
     "status": "completed"
    },
    "tags": []
   },
   "source": [
    "# NORMALのテストデータを推論"
   ]
  },
  {
   "cell_type": "markdown",
   "id": "0e587d4c",
   "metadata": {
    "papermill": {
     "duration": 0.045181,
     "end_time": "2022-05-20T22:49:42.383452",
     "exception": false,
     "start_time": "2022-05-20T22:49:42.338271",
     "status": "completed"
    },
    "tags": []
   },
   "source": [
    "## NORMALのテストデータのデータフレーム化"
   ]
  },
  {
   "cell_type": "code",
   "execution_count": 13,
   "id": "bf6e92b7",
   "metadata": {
    "execution": {
     "iopub.execute_input": "2022-05-20T22:49:42.478829Z",
     "iopub.status.busy": "2022-05-20T22:49:42.478193Z",
     "iopub.status.idle": "2022-05-20T22:49:42.549818Z",
     "shell.execute_reply": "2022-05-20T22:49:42.550184Z",
     "shell.execute_reply.started": "2022-05-20T22:43:00.864485Z"
    },
    "papermill": {
     "duration": 0.120471,
     "end_time": "2022-05-20T22:49:42.550306",
     "exception": false,
     "start_time": "2022-05-20T22:49:42.429835",
     "status": "completed"
    },
    "tags": []
   },
   "outputs": [],
   "source": [
    "# ディレクトリ内の画像リスト作成\n",
    "normal = glob(test_normal_dir+'*.jpeg')"
   ]
  },
  {
   "cell_type": "code",
   "execution_count": 14,
   "id": "17ce237d",
   "metadata": {
    "execution": {
     "iopub.execute_input": "2022-05-20T22:49:42.645017Z",
     "iopub.status.busy": "2022-05-20T22:49:42.644360Z",
     "iopub.status.idle": "2022-05-20T22:49:42.648016Z",
     "shell.execute_reply": "2022-05-20T22:49:42.648444Z",
     "shell.execute_reply.started": "2022-05-20T22:43:00.922488Z"
    },
    "papermill": {
     "duration": 0.052629,
     "end_time": "2022-05-20T22:49:42.648565",
     "exception": false,
     "start_time": "2022-05-20T22:49:42.595936",
     "status": "completed"
    },
    "tags": []
   },
   "outputs": [],
   "source": [
    "# テストデータのリストを作成\n",
    "test_file_list = []\n",
    "\n",
    "for path in normal:\n",
    "    file_name = re.split('[////////]', path)[8]\n",
    "    test_file_list.append(file_name)\n",
    "    #print(file_name)"
   ]
  },
  {
   "cell_type": "code",
   "execution_count": 15,
   "id": "89b5fc8a",
   "metadata": {
    "execution": {
     "iopub.execute_input": "2022-05-20T22:49:42.743768Z",
     "iopub.status.busy": "2022-05-20T22:49:42.743119Z",
     "iopub.status.idle": "2022-05-20T22:49:42.761019Z",
     "shell.execute_reply": "2022-05-20T22:49:42.761547Z",
     "shell.execute_reply.started": "2022-05-20T22:43:00.928946Z"
    },
    "papermill": {
     "duration": 0.066709,
     "end_time": "2022-05-20T22:49:42.761708",
     "exception": false,
     "start_time": "2022-05-20T22:49:42.694999",
     "status": "completed"
    },
    "tags": []
   },
   "outputs": [
    {
     "name": "stdout",
     "output_type": "stream",
     "text": [
      "                          name label\n",
      "0    NORMAL2-IM-0336-0001.jpeg  None\n",
      "1            IM-0101-0001.jpeg  None\n",
      "2    NORMAL2-IM-0337-0001.jpeg  None\n",
      "3    NORMAL2-IM-0198-0001.jpeg  None\n",
      "4            IM-0013-0001.jpeg  None\n",
      "..                         ...   ...\n",
      "229  NORMAL2-IM-0338-0001.jpeg  None\n",
      "230  NORMAL2-IM-0195-0001.jpeg  None\n",
      "231  NORMAL2-IM-0333-0001.jpeg  None\n",
      "232  NORMAL2-IM-0150-0001.jpeg  None\n",
      "233          IM-0010-0001.jpeg  None\n",
      "\n",
      "[234 rows x 2 columns]\n",
      "234\n"
     ]
    }
   ],
   "source": [
    "# ファイル名とラベルのデータフレームを作成\n",
    "test_normal_df = pd.DataFrame({'name':test_file_list})\n",
    "test_normal_df['label'] = None\n",
    "\n",
    "print(test_normal_df)\n",
    "print(len(test_normal_df))"
   ]
  },
  {
   "cell_type": "code",
   "execution_count": 16,
   "id": "4235b5b3",
   "metadata": {
    "execution": {
     "iopub.execute_input": "2022-05-20T22:49:42.904994Z",
     "iopub.status.busy": "2022-05-20T22:49:42.904430Z",
     "iopub.status.idle": "2022-05-20T22:49:42.907118Z",
     "shell.execute_reply": "2022-05-20T22:49:42.907685Z",
     "shell.execute_reply.started": "2022-05-20T22:43:00.962232Z"
    },
    "papermill": {
     "duration": 0.075405,
     "end_time": "2022-05-20T22:49:42.907814",
     "exception": false,
     "start_time": "2022-05-20T22:49:42.832409",
     "status": "completed"
    },
    "tags": []
   },
   "outputs": [],
   "source": [
    "# 画像データの名前リストの抽出\n",
    "x_test_normal = test_normal_df['name'].values\n",
    "dummy = test_normal_df['name'].values\n",
    "#print(x_test_normal, f'データ数：{len(x_test_normal)}')"
   ]
  },
  {
   "cell_type": "code",
   "execution_count": 17,
   "id": "95b4cb68",
   "metadata": {
    "execution": {
     "iopub.execute_input": "2022-05-20T22:49:43.050523Z",
     "iopub.status.busy": "2022-05-20T22:49:43.049951Z",
     "iopub.status.idle": "2022-05-20T22:49:43.052351Z",
     "shell.execute_reply": "2022-05-20T22:49:43.052918Z",
     "shell.execute_reply.started": "2022-05-20T22:43:00.970717Z"
    },
    "papermill": {
     "duration": 0.074939,
     "end_time": "2022-05-20T22:49:43.053045",
     "exception": false,
     "start_time": "2022-05-20T22:49:42.978106",
     "status": "completed"
    },
    "tags": []
   },
   "outputs": [],
   "source": [
    "# Datasetのインスタンス作成\n",
    "test_normal_dataset = XrayDataset(x_test_normal, dummy, test_normal_dir, transform=transform, phase='val')"
   ]
  },
  {
   "cell_type": "code",
   "execution_count": 18,
   "id": "7c803656",
   "metadata": {
    "execution": {
     "iopub.execute_input": "2022-05-20T22:49:43.196106Z",
     "iopub.status.busy": "2022-05-20T22:49:43.195540Z",
     "iopub.status.idle": "2022-05-20T22:49:43.198035Z",
     "shell.execute_reply": "2022-05-20T22:49:43.198897Z",
     "shell.execute_reply.started": "2022-05-20T22:43:00.983002Z"
    },
    "papermill": {
     "duration": 0.075937,
     "end_time": "2022-05-20T22:49:43.199151",
     "exception": false,
     "start_time": "2022-05-20T22:49:43.123214",
     "status": "completed"
    },
    "tags": []
   },
   "outputs": [],
   "source": [
    "# DataLoader\n",
    "test_normal_dataloader = DataLoader(test_normal_dataset, batch_size=1, shuffle=False)"
   ]
  },
  {
   "cell_type": "code",
   "execution_count": 19,
   "id": "97b4392e",
   "metadata": {
    "execution": {
     "iopub.execute_input": "2022-05-20T22:49:43.341844Z",
     "iopub.status.busy": "2022-05-20T22:49:43.341240Z",
     "iopub.status.idle": "2022-05-20T22:49:43.405652Z",
     "shell.execute_reply": "2022-05-20T22:49:43.406180Z",
     "shell.execute_reply.started": "2022-05-20T22:43:00.996633Z"
    },
    "papermill": {
     "duration": 0.136263,
     "end_time": "2022-05-20T22:49:43.406349",
     "exception": false,
     "start_time": "2022-05-20T22:49:43.270086",
     "status": "completed"
    },
    "tags": []
   },
   "outputs": [
    {
     "name": "stdout",
     "output_type": "stream",
     "text": [
      "torch.Size([1, 3, 224, 224])\n",
      "('NORMAL2-IM-0336-0001.jpeg',)\n"
     ]
    }
   ],
   "source": [
    "# DataLoaderの確認\n",
    "train_iter = iter(test_normal_dataloader)\n",
    "imgs, labels = train_iter.next()\n",
    "print(imgs.size())\n",
    "print(labels)"
   ]
  },
  {
   "cell_type": "markdown",
   "id": "5cb3c7be",
   "metadata": {
    "papermill": {
     "duration": 0.071628,
     "end_time": "2022-05-20T22:49:43.549952",
     "exception": false,
     "start_time": "2022-05-20T22:49:43.478324",
     "status": "completed"
    },
    "tags": []
   },
   "source": [
    "## NORMALのテストデータの予測"
   ]
  },
  {
   "cell_type": "code",
   "execution_count": 20,
   "id": "c60bcef8",
   "metadata": {
    "execution": {
     "iopub.execute_input": "2022-05-20T22:49:43.695306Z",
     "iopub.status.busy": "2022-05-20T22:49:43.694700Z",
     "iopub.status.idle": "2022-05-20T22:49:57.179130Z",
     "shell.execute_reply": "2022-05-20T22:49:57.178584Z",
     "shell.execute_reply.started": "2022-05-20T22:43:01.090158Z"
    },
    "papermill": {
     "duration": 13.558074,
     "end_time": "2022-05-20T22:49:57.179266",
     "exception": false,
     "start_time": "2022-05-20T22:49:43.621192",
     "status": "completed"
    },
    "tags": []
   },
   "outputs": [],
   "source": [
    "# 予測データフレームの作成\n",
    "normal_preds = []\n",
    "\n",
    "# dataloaderから、ミニバッチ単位でデータを読み込む\n",
    "for images, _ in test_normal_dataloader:\n",
    "    \n",
    "    # 入力データをdeviceへ\n",
    "    images = images.to(device)\n",
    "    \n",
    "    # 学習済みモデルを推論モードに設定\n",
    "    model.eval()\n",
    "    \n",
    "    # モデルによる変換\n",
    "    outputs = model(images)\n",
    "    pred = torch.argmax(outputs, dim=1)\n",
    "    pred = pred.to('cpu').numpy()\n",
    "\n",
    "    # 予測値をリストに追加\n",
    "    normal_preds.extend(pred)"
   ]
  },
  {
   "cell_type": "code",
   "execution_count": 21,
   "id": "c8c36a11",
   "metadata": {
    "execution": {
     "iopub.execute_input": "2022-05-20T22:49:57.326671Z",
     "iopub.status.busy": "2022-05-20T22:49:57.326001Z",
     "iopub.status.idle": "2022-05-20T22:49:57.329833Z",
     "shell.execute_reply": "2022-05-20T22:49:57.329211Z",
     "shell.execute_reply.started": "2022-05-20T22:43:55.001116Z"
    },
    "papermill": {
     "duration": 0.079062,
     "end_time": "2022-05-20T22:49:57.329949",
     "exception": false,
     "start_time": "2022-05-20T22:49:57.250887",
     "status": "completed"
    },
    "tags": []
   },
   "outputs": [
    {
     "name": "stdout",
     "output_type": "stream",
     "text": [
      "[0, 0, 0, 1, 0, 0, 0, 0, 0, 0, 0, 0, 0, 1, 0, 0, 0, 0, 1, 1, 0, 0, 0, 0, 0, 0, 1, 0, 0, 0, 0, 1, 0, 1, 0, 1, 0, 0, 0, 0, 1, 0, 0, 0, 0, 0, 0, 1, 0, 0, 0, 0, 0, 1, 0, 0, 0, 0, 0, 0, 0, 0, 0, 0, 0, 0, 0, 0, 0, 0, 0, 0, 0, 0, 0, 0, 1, 0, 0, 0, 0, 0, 0, 0, 0, 0, 0, 0, 0, 0, 1, 0, 1, 0, 0, 0, 0, 0, 0, 0, 0, 1, 0, 0, 0, 1, 0, 1, 0, 1, 0, 0, 0, 1, 0, 0, 0, 0, 0, 0, 0, 0, 0, 0, 0, 0, 0, 0, 0, 1, 0, 1, 0, 0, 0, 0, 1, 0, 0, 0, 0, 0, 1, 0, 0, 0, 0, 1, 1, 0, 0, 0, 0, 0, 1, 0, 0, 0, 0, 0, 0, 0, 0, 1, 0, 0, 0, 0, 0, 0, 0, 0, 0, 1, 0, 1, 0, 1, 0, 0, 0, 0, 0, 0, 1, 0, 0, 0, 0, 0, 0, 0, 0, 0, 1, 0, 0, 0, 0, 1, 0, 0, 0, 0, 0, 0, 1, 0, 0, 0, 0, 1, 0, 0, 1, 0, 0, 1, 0, 0, 0, 1, 0, 0, 1, 1, 0, 0, 0, 0, 1, 0, 1, 0]\n",
      "正解率： 0.8205128205128205\n"
     ]
    }
   ],
   "source": [
    "# 予測結果と正解率の確認\n",
    "print(normal_preds)\n",
    "print('正解率：',normal_preds.count(0)/len(normal_preds))"
   ]
  },
  {
   "cell_type": "code",
   "execution_count": 22,
   "id": "dbcdf83d",
   "metadata": {
    "execution": {
     "iopub.execute_input": "2022-05-20T22:49:57.432627Z",
     "iopub.status.busy": "2022-05-20T22:49:57.431988Z",
     "iopub.status.idle": "2022-05-20T22:49:57.434269Z",
     "shell.execute_reply": "2022-05-20T22:49:57.434655Z",
     "shell.execute_reply.started": "2022-05-20T22:43:55.009623Z"
    },
    "papermill": {
     "duration": 0.05624,
     "end_time": "2022-05-20T22:49:57.434776",
     "exception": false,
     "start_time": "2022-05-20T22:49:57.378536",
     "status": "completed"
    },
    "tags": []
   },
   "outputs": [
    {
     "name": "stdout",
     "output_type": "stream",
     "text": [
      "                        name  label\n",
      "0  NORMAL2-IM-0336-0001.jpeg      0\n",
      "1          IM-0101-0001.jpeg      0\n",
      "2  NORMAL2-IM-0337-0001.jpeg      0\n",
      "3  NORMAL2-IM-0198-0001.jpeg      1\n",
      "4          IM-0013-0001.jpeg      0\n"
     ]
    }
   ],
   "source": [
    "# 目的変数カラムの置き換え\n",
    "test_normal_df['label'] = normal_preds\n",
    "print(test_normal_df.head())"
   ]
  },
  {
   "cell_type": "markdown",
   "id": "f071f92f",
   "metadata": {
    "papermill": {
     "duration": 0.047376,
     "end_time": "2022-05-20T22:49:57.529208",
     "exception": false,
     "start_time": "2022-05-20T22:49:57.481832",
     "status": "completed"
    },
    "tags": []
   },
   "source": [
    "# PNEUMONIAのテストデータを推論"
   ]
  },
  {
   "cell_type": "markdown",
   "id": "b214bc48",
   "metadata": {
    "papermill": {
     "duration": 0.046507,
     "end_time": "2022-05-20T22:49:57.623356",
     "exception": false,
     "start_time": "2022-05-20T22:49:57.576849",
     "status": "completed"
    },
    "tags": []
   },
   "source": [
    "## PNEUMONIAのテストデータのデータフレーム化"
   ]
  },
  {
   "cell_type": "code",
   "execution_count": 23,
   "id": "d014c0b3",
   "metadata": {
    "execution": {
     "iopub.execute_input": "2022-05-20T22:49:57.720478Z",
     "iopub.status.busy": "2022-05-20T22:49:57.719977Z",
     "iopub.status.idle": "2022-05-20T22:49:57.827687Z",
     "shell.execute_reply": "2022-05-20T22:49:57.828027Z",
     "shell.execute_reply.started": "2022-05-20T22:43:55.027374Z"
    },
    "papermill": {
     "duration": 0.1576,
     "end_time": "2022-05-20T22:49:57.828163",
     "exception": false,
     "start_time": "2022-05-20T22:49:57.670563",
     "status": "completed"
    },
    "tags": []
   },
   "outputs": [],
   "source": [
    "# ディレクトリ内の画像リスト作成\n",
    "pneumonia = glob(test_pneumonia_dir+'*.jpeg')"
   ]
  },
  {
   "cell_type": "code",
   "execution_count": 24,
   "id": "777cbb28",
   "metadata": {
    "execution": {
     "iopub.execute_input": "2022-05-20T22:49:57.926434Z",
     "iopub.status.busy": "2022-05-20T22:49:57.925781Z",
     "iopub.status.idle": "2022-05-20T22:49:57.929553Z",
     "shell.execute_reply": "2022-05-20T22:49:57.929958Z",
     "shell.execute_reply.started": "2022-05-20T22:43:55.074485Z"
    },
    "papermill": {
     "duration": 0.054032,
     "end_time": "2022-05-20T22:49:57.930067",
     "exception": false,
     "start_time": "2022-05-20T22:49:57.876035",
     "status": "completed"
    },
    "tags": []
   },
   "outputs": [],
   "source": [
    "# テストデータのリストを作成\n",
    "test_file_list = []\n",
    "\n",
    "for path in pneumonia:\n",
    "    file_name = re.split('[////////]', path)[8]\n",
    "    test_file_list.append(file_name)\n",
    "    #print(file_name)"
   ]
  },
  {
   "cell_type": "code",
   "execution_count": 25,
   "id": "36d2559c",
   "metadata": {
    "execution": {
     "iopub.execute_input": "2022-05-20T22:49:58.030534Z",
     "iopub.status.busy": "2022-05-20T22:49:58.029821Z",
     "iopub.status.idle": "2022-05-20T22:49:58.035252Z",
     "shell.execute_reply": "2022-05-20T22:49:58.034683Z",
     "shell.execute_reply.started": "2022-05-20T22:43:55.081616Z"
    },
    "papermill": {
     "duration": 0.058559,
     "end_time": "2022-05-20T22:49:58.035372",
     "exception": false,
     "start_time": "2022-05-20T22:49:57.976813",
     "status": "completed"
    },
    "tags": []
   },
   "outputs": [
    {
     "name": "stdout",
     "output_type": "stream",
     "text": [
      "                            name label\n",
      "0     person1676_virus_2892.jpeg  None\n",
      "1     person1650_virus_2852.jpeg  None\n",
      "2         person22_virus_55.jpeg  None\n",
      "3    person122_bacteria_582.jpeg  None\n",
      "4     person85_bacteria_417.jpeg  None\n",
      "..                           ...   ...\n",
      "385   person1659_virus_2867.jpeg  None\n",
      "386   person1615_virus_2801.jpeg  None\n",
      "387   person1664_virus_2877.jpeg  None\n",
      "388  person111_bacteria_536.jpeg  None\n",
      "389  person152_bacteria_724.jpeg  None\n",
      "\n",
      "[390 rows x 2 columns]\n",
      "390\n"
     ]
    }
   ],
   "source": [
    "# ファイル名とラベルのデータフレームを作成\n",
    "test_pneumonia_df = pd.DataFrame({'name':test_file_list})\n",
    "test_pneumonia_df['label'] = None\n",
    "\n",
    "print(test_pneumonia_df)\n",
    "print(len(test_pneumonia_df))"
   ]
  },
  {
   "cell_type": "code",
   "execution_count": 26,
   "id": "9f34c113",
   "metadata": {
    "execution": {
     "iopub.execute_input": "2022-05-20T22:49:58.135464Z",
     "iopub.status.busy": "2022-05-20T22:49:58.134812Z",
     "iopub.status.idle": "2022-05-20T22:49:58.138023Z",
     "shell.execute_reply": "2022-05-20T22:49:58.138399Z",
     "shell.execute_reply.started": "2022-05-20T22:43:55.102378Z"
    },
    "papermill": {
     "duration": 0.054024,
     "end_time": "2022-05-20T22:49:58.138525",
     "exception": false,
     "start_time": "2022-05-20T22:49:58.084501",
     "status": "completed"
    },
    "tags": []
   },
   "outputs": [],
   "source": [
    "# 画像データの名前リストの抽出\n",
    "x_test_pneumonia = test_pneumonia_df['name'].values\n",
    "dummy = test_pneumonia_df['name'].values\n",
    "#print(x_test_pneumonia, f'データ数：{len(x_test_pneumonia)}')"
   ]
  },
  {
   "cell_type": "code",
   "execution_count": 27,
   "id": "e4c9fe1f",
   "metadata": {
    "execution": {
     "iopub.execute_input": "2022-05-20T22:49:58.238753Z",
     "iopub.status.busy": "2022-05-20T22:49:58.237358Z",
     "iopub.status.idle": "2022-05-20T22:49:58.239296Z",
     "shell.execute_reply": "2022-05-20T22:49:58.239675Z",
     "shell.execute_reply.started": "2022-05-20T22:43:55.108122Z"
    },
    "papermill": {
     "duration": 0.053222,
     "end_time": "2022-05-20T22:49:58.239781",
     "exception": false,
     "start_time": "2022-05-20T22:49:58.186559",
     "status": "completed"
    },
    "tags": []
   },
   "outputs": [],
   "source": [
    "# Datasetのインスタンス作成\n",
    "test_pneumonia_dataset = XrayDataset(x_test_pneumonia, dummy, test_pneumonia_dir, transform=transform, phase='val')"
   ]
  },
  {
   "cell_type": "code",
   "execution_count": 28,
   "id": "b0d22633",
   "metadata": {
    "execution": {
     "iopub.execute_input": "2022-05-20T22:49:58.338863Z",
     "iopub.status.busy": "2022-05-20T22:49:58.338393Z",
     "iopub.status.idle": "2022-05-20T22:49:58.341729Z",
     "shell.execute_reply": "2022-05-20T22:49:58.341311Z",
     "shell.execute_reply.started": "2022-05-20T22:43:55.121610Z"
    },
    "papermill": {
     "duration": 0.05489,
     "end_time": "2022-05-20T22:49:58.341824",
     "exception": false,
     "start_time": "2022-05-20T22:49:58.286934",
     "status": "completed"
    },
    "tags": []
   },
   "outputs": [],
   "source": [
    "# DataLoader\n",
    "test_pneumonia_dataloader = DataLoader(test_pneumonia_dataset, batch_size=1, shuffle=False)"
   ]
  },
  {
   "cell_type": "code",
   "execution_count": 29,
   "id": "4dfa636c",
   "metadata": {
    "execution": {
     "iopub.execute_input": "2022-05-20T22:49:58.440656Z",
     "iopub.status.busy": "2022-05-20T22:49:58.440008Z",
     "iopub.status.idle": "2022-05-20T22:49:58.472297Z",
     "shell.execute_reply": "2022-05-20T22:49:58.471803Z",
     "shell.execute_reply.started": "2022-05-20T22:43:55.136143Z"
    },
    "papermill": {
     "duration": 0.083247,
     "end_time": "2022-05-20T22:49:58.472405",
     "exception": false,
     "start_time": "2022-05-20T22:49:58.389158",
     "status": "completed"
    },
    "tags": []
   },
   "outputs": [
    {
     "name": "stdout",
     "output_type": "stream",
     "text": [
      "torch.Size([1, 3, 224, 224])\n",
      "('person1676_virus_2892.jpeg',)\n"
     ]
    }
   ],
   "source": [
    "# DataLoaderの確認\n",
    "train_iter = iter(test_pneumonia_dataloader)\n",
    "imgs, labels = train_iter.next()\n",
    "print(imgs.size())\n",
    "print(labels)"
   ]
  },
  {
   "cell_type": "markdown",
   "id": "d4bab219",
   "metadata": {
    "papermill": {
     "duration": 0.048825,
     "end_time": "2022-05-20T22:49:58.570687",
     "exception": false,
     "start_time": "2022-05-20T22:49:58.521862",
     "status": "completed"
    },
    "tags": []
   },
   "source": [
    "## PNEUMONIAのテストデータの予測"
   ]
  },
  {
   "cell_type": "code",
   "execution_count": 30,
   "id": "544b90fc",
   "metadata": {
    "execution": {
     "iopub.execute_input": "2022-05-20T22:49:58.671069Z",
     "iopub.status.busy": "2022-05-20T22:49:58.670410Z",
     "iopub.status.idle": "2022-05-20T22:50:13.688158Z",
     "shell.execute_reply": "2022-05-20T22:50:13.688606Z",
     "shell.execute_reply.started": "2022-05-20T22:43:55.181413Z"
    },
    "papermill": {
     "duration": 15.070611,
     "end_time": "2022-05-20T22:50:13.688743",
     "exception": false,
     "start_time": "2022-05-20T22:49:58.618132",
     "status": "completed"
    },
    "tags": []
   },
   "outputs": [],
   "source": [
    "# 予測データフレームの作成\n",
    "pneumonia_preds = []\n",
    "\n",
    "# dataloaderから、ミニバッチ単位でデータを読み込む\n",
    "for images, _ in test_pneumonia_dataloader:\n",
    "    \n",
    "    # 入力データをdeviceへ\n",
    "    images = images.to(device)\n",
    "    \n",
    "    # 学習済みモデルを推論モードに設定\n",
    "    model.eval()\n",
    "    \n",
    "    # モデルによる変換\n",
    "    outputs = model(images)\n",
    "    pred = torch.argmax(outputs, dim=1)\n",
    "    pred = pred.to('cpu').numpy()\n",
    "\n",
    "    # 予測値をリストに追加\n",
    "    pneumonia_preds.extend(pred)"
   ]
  },
  {
   "cell_type": "code",
   "execution_count": 31,
   "id": "13f6f007",
   "metadata": {
    "execution": {
     "iopub.execute_input": "2022-05-20T22:50:13.789671Z",
     "iopub.status.busy": "2022-05-20T22:50:13.789227Z",
     "iopub.status.idle": "2022-05-20T22:50:13.794596Z",
     "shell.execute_reply": "2022-05-20T22:50:13.794117Z",
     "shell.execute_reply.started": "2022-05-20T22:45:16.333084Z"
    },
    "papermill": {
     "duration": 0.055732,
     "end_time": "2022-05-20T22:50:13.794688",
     "exception": false,
     "start_time": "2022-05-20T22:50:13.738956",
     "status": "completed"
    },
    "tags": []
   },
   "outputs": [
    {
     "name": "stdout",
     "output_type": "stream",
     "text": [
      "[1, 1, 1, 1, 1, 1, 1, 1, 1, 1, 1, 1, 1, 1, 1, 1, 1, 1, 1, 1, 1, 1, 1, 1, 1, 1, 1, 1, 1, 1, 1, 1, 1, 1, 1, 1, 1, 1, 1, 1, 1, 1, 1, 1, 1, 1, 1, 1, 1, 1, 1, 1, 1, 1, 1, 1, 1, 1, 1, 1, 1, 1, 1, 1, 1, 1, 1, 1, 1, 1, 1, 1, 1, 1, 1, 1, 1, 1, 1, 1, 1, 1, 1, 1, 1, 1, 1, 0, 1, 1, 1, 1, 1, 1, 1, 1, 1, 1, 1, 1, 1, 1, 1, 1, 1, 1, 1, 1, 1, 1, 1, 1, 1, 1, 1, 1, 1, 1, 1, 1, 1, 1, 1, 1, 1, 1, 1, 1, 1, 1, 1, 1, 1, 1, 1, 1, 1, 1, 1, 1, 1, 1, 1, 1, 1, 1, 1, 1, 1, 1, 1, 1, 1, 1, 1, 1, 1, 1, 1, 1, 1, 1, 1, 1, 1, 1, 1, 1, 1, 1, 1, 1, 1, 1, 1, 1, 1, 1, 1, 1, 1, 1, 1, 1, 1, 1, 1, 1, 1, 1, 1, 1, 1, 1, 1, 1, 1, 1, 1, 1, 1, 1, 1, 1, 1, 1, 1, 1, 1, 1, 1, 1, 1, 1, 1, 1, 1, 1, 1, 1, 1, 1, 1, 1, 1, 1, 1, 1, 0, 1, 1, 1, 1, 1, 1, 1, 1, 1, 1, 1, 1, 1, 1, 1, 1, 1, 1, 1, 1, 1, 1, 1, 1, 1, 1, 1, 1, 1, 1, 1, 1, 1, 1, 1, 1, 1, 1, 1, 1, 1, 1, 1, 1, 0, 1, 1, 1, 1, 1, 1, 1, 1, 1, 1, 1, 1, 1, 1, 1, 1, 1, 1, 1, 1, 1, 1, 1, 1, 1, 1, 1, 1, 1, 1, 1, 1, 1, 1, 1, 1, 1, 1, 1, 1, 1, 1, 1, 1, 1, 1, 1, 1, 1, 1, 1, 1, 1, 1, 1, 1, 1, 1, 1, 1, 1, 1, 1, 1, 1, 1, 1, 1, 1, 1, 1, 1, 1, 1, 1, 1, 0, 1, 1, 1, 1, 1, 1, 1, 1, 1, 1, 1, 1, 1, 1, 1, 1, 1, 1, 1, 1, 1, 1, 1, 1, 1, 1, 1, 1, 1, 1, 1, 1, 1, 1, 1, 1, 1, 1, 1]\n",
      "正解率： 0.9897435897435898\n"
     ]
    }
   ],
   "source": [
    "# 予測結果と正解率の確認\n",
    "print(pneumonia_preds)\n",
    "print('正解率：',pneumonia_preds.count(1)/len(pneumonia_preds))"
   ]
  },
  {
   "cell_type": "code",
   "execution_count": 32,
   "id": "f7eecbd3",
   "metadata": {
    "execution": {
     "iopub.execute_input": "2022-05-20T22:50:13.898961Z",
     "iopub.status.busy": "2022-05-20T22:50:13.898329Z",
     "iopub.status.idle": "2022-05-20T22:50:13.901879Z",
     "shell.execute_reply": "2022-05-20T22:50:13.901290Z",
     "shell.execute_reply.started": "2022-05-20T22:45:16.339770Z"
    },
    "papermill": {
     "duration": 0.058615,
     "end_time": "2022-05-20T22:50:13.901981",
     "exception": false,
     "start_time": "2022-05-20T22:50:13.843366",
     "status": "completed"
    },
    "tags": []
   },
   "outputs": [
    {
     "name": "stdout",
     "output_type": "stream",
     "text": [
      "                          name  label\n",
      "0   person1676_virus_2892.jpeg      1\n",
      "1   person1650_virus_2852.jpeg      1\n",
      "2       person22_virus_55.jpeg      1\n",
      "3  person122_bacteria_582.jpeg      1\n",
      "4   person85_bacteria_417.jpeg      1\n"
     ]
    }
   ],
   "source": [
    "# 目的変数カラムの置き換え\n",
    "test_pneumonia_df['label'] = pneumonia_preds\n",
    "print(test_pneumonia_df.head())"
   ]
  },
  {
   "cell_type": "markdown",
   "id": "8f8e7f5d",
   "metadata": {
    "papermill": {
     "duration": 0.048155,
     "end_time": "2022-05-20T22:50:13.998713",
     "exception": false,
     "start_time": "2022-05-20T22:50:13.950558",
     "status": "completed"
    },
    "tags": []
   },
   "source": [
    "# 混同行列"
   ]
  },
  {
   "cell_type": "code",
   "execution_count": 33,
   "id": "23d02938",
   "metadata": {
    "execution": {
     "iopub.execute_input": "2022-05-20T22:50:14.098165Z",
     "iopub.status.busy": "2022-05-20T22:50:14.097522Z",
     "iopub.status.idle": "2022-05-20T22:50:14.100748Z",
     "shell.execute_reply": "2022-05-20T22:50:14.101102Z",
     "shell.execute_reply.started": "2022-05-20T22:45:16.356571Z"
    },
    "papermill": {
     "duration": 0.054079,
     "end_time": "2022-05-20T22:50:14.101210",
     "exception": false,
     "start_time": "2022-05-20T22:50:14.047131",
     "status": "completed"
    },
    "tags": []
   },
   "outputs": [],
   "source": [
    "# 正解リスト\n",
    "normal_true = [0] * len(normal_preds)\n",
    "pneumonia_true = [1] * len(pneumonia_preds)\n",
    "y_true = normal_true + pneumonia_true\n",
    "#print(y_true)\n",
    "#print('データ数：', len(y_true))"
   ]
  },
  {
   "cell_type": "code",
   "execution_count": 34,
   "id": "697a345c",
   "metadata": {
    "execution": {
     "iopub.execute_input": "2022-05-20T22:50:14.202435Z",
     "iopub.status.busy": "2022-05-20T22:50:14.201737Z",
     "iopub.status.idle": "2022-05-20T22:50:14.204485Z",
     "shell.execute_reply": "2022-05-20T22:50:14.204832Z",
     "shell.execute_reply.started": "2022-05-20T22:45:16.366471Z"
    },
    "papermill": {
     "duration": 0.054639,
     "end_time": "2022-05-20T22:50:14.204956",
     "exception": false,
     "start_time": "2022-05-20T22:50:14.150317",
     "status": "completed"
    },
    "tags": []
   },
   "outputs": [],
   "source": [
    "# 予測リスト\n",
    "y_pred = normal_preds + pneumonia_preds\n",
    "#print(y_pred)\n",
    "#print('データ数：', len(y_pred))"
   ]
  },
  {
   "cell_type": "code",
   "execution_count": 35,
   "id": "402788d2",
   "metadata": {
    "execution": {
     "iopub.execute_input": "2022-05-20T22:50:14.305875Z",
     "iopub.status.busy": "2022-05-20T22:50:14.305210Z",
     "iopub.status.idle": "2022-05-20T22:50:14.397550Z",
     "shell.execute_reply": "2022-05-20T22:50:14.398094Z",
     "shell.execute_reply.started": "2022-05-20T22:45:16.378717Z"
    },
    "papermill": {
     "duration": 0.144183,
     "end_time": "2022-05-20T22:50:14.398263",
     "exception": false,
     "start_time": "2022-05-20T22:50:14.254080",
     "status": "completed"
    },
    "tags": []
   },
   "outputs": [
    {
     "data": {
      "image/png": "[encoded data removed]",
      "text/plain": [
       "<Figure size 432x288 with 1 Axes>"
      ]
     },
     "metadata": {
      "needs_background": "light"
     },
     "output_type": "display_data"
    }
   ],
   "source": [
    "# 混同行列の作成と可視化\n",
    "cm = confusion_matrix(y_true, y_pred)\n",
    "\n",
    "sns.heatmap(cm, \n",
    "            annot=True, # 数字を表示\n",
    "            fmt='d', # 整数表示\n",
    "            cmap='Blues',\n",
    "            cbar=False # カラーバーを非表示\n",
    ")\n",
    "plt.show()"
   ]
  },
  {
   "cell_type": "markdown",
   "id": "875ea532",
   "metadata": {
    "papermill": {
     "duration": 0.074286,
     "end_time": "2022-05-20T22:50:14.556052",
     "exception": false,
     "start_time": "2022-05-20T22:50:14.481766",
     "status": "completed"
    },
    "tags": []
   },
   "source": [
    "## 正解率"
   ]
  },
  {
   "cell_type": "markdown",
   "id": "eeee8d8a",
   "metadata": {
    "papermill": {
     "duration": 0.073741,
     "end_time": "2022-05-20T22:50:14.704087",
     "exception": false,
     "start_time": "2022-05-20T22:50:14.630346",
     "status": "completed"
    },
    "tags": []
   },
   "source": [
    "正解率（accuracy）は、すべてのサンプルのうち正解したサンプルの割合"
   ]
  },
  {
   "cell_type": "code",
   "execution_count": 36,
   "id": "5d71c48c",
   "metadata": {
    "execution": {
     "iopub.execute_input": "2022-05-20T22:50:14.856623Z",
     "iopub.status.busy": "2022-05-20T22:50:14.856026Z",
     "iopub.status.idle": "2022-05-20T22:50:14.860996Z",
     "shell.execute_reply": "2022-05-20T22:50:14.860594Z",
     "shell.execute_reply.started": "2022-05-20T22:45:16.548469Z"
    },
    "papermill": {
     "duration": 0.082969,
     "end_time": "2022-05-20T22:50:14.861105",
     "exception": false,
     "start_time": "2022-05-20T22:50:14.778136",
     "status": "completed"
    },
    "tags": []
   },
   "outputs": [
    {
     "name": "stdout",
     "output_type": "stream",
     "text": [
      "0.9262820512820513\n"
     ]
    }
   ],
   "source": [
    "print(accuracy_score(y_true, y_pred))"
   ]
  },
  {
   "cell_type": "markdown",
   "id": "ce19dffa",
   "metadata": {
    "papermill": {
     "duration": 0.048311,
     "end_time": "2022-05-20T22:50:14.958529",
     "exception": false,
     "start_time": "2022-05-20T22:50:14.910218",
     "status": "completed"
    },
    "tags": []
   },
   "source": [
    "## 適合率"
   ]
  },
  {
   "cell_type": "markdown",
   "id": "f8229d0c",
   "metadata": {
    "papermill": {
     "duration": 0.048595,
     "end_time": "2022-05-20T22:50:15.055898",
     "exception": false,
     "start_time": "2022-05-20T22:50:15.007303",
     "status": "completed"
    },
    "tags": []
   },
   "source": [
    "適合率（precision）は、陽性と予測されたサンプルのうち正解したサンプルの割合"
   ]
  },
  {
   "cell_type": "code",
   "execution_count": 37,
   "id": "e84672f5",
   "metadata": {
    "execution": {
     "iopub.execute_input": "2022-05-20T22:50:15.158722Z",
     "iopub.status.busy": "2022-05-20T22:50:15.158252Z",
     "iopub.status.idle": "2022-05-20T22:50:15.164553Z",
     "shell.execute_reply": "2022-05-20T22:50:15.164159Z",
     "shell.execute_reply.started": "2022-05-20T22:45:16.556768Z"
    },
    "papermill": {
     "duration": 0.058997,
     "end_time": "2022-05-20T22:50:15.164652",
     "exception": false,
     "start_time": "2022-05-20T22:50:15.105655",
     "status": "completed"
    },
    "tags": []
   },
   "outputs": [
    {
     "name": "stdout",
     "output_type": "stream",
     "text": [
      "0.9018691588785047\n"
     ]
    }
   ],
   "source": [
    "print(precision_score(y_true, y_pred))"
   ]
  },
  {
   "cell_type": "markdown",
   "id": "e304af32",
   "metadata": {
    "papermill": {
     "duration": 0.050049,
     "end_time": "2022-05-20T22:50:15.266060",
     "exception": false,
     "start_time": "2022-05-20T22:50:15.216011",
     "status": "completed"
    },
    "tags": []
   },
   "source": [
    "## 再現率"
   ]
  },
  {
   "cell_type": "markdown",
   "id": "81bb2dbd",
   "metadata": {
    "papermill": {
     "duration": 0.050646,
     "end_time": "2022-05-20T22:50:15.367402",
     "exception": false,
     "start_time": "2022-05-20T22:50:15.316756",
     "status": "completed"
    },
    "tags": []
   },
   "source": [
    "再現率（recall）は実際に陽性のサンプルのうち正解したサンプルの割合。sensitivityやhit rate, TPR（true positive rate, 真陽性率）などとも呼ばれる。"
   ]
  },
  {
   "cell_type": "code",
   "execution_count": 38,
   "id": "5b365d9c",
   "metadata": {
    "execution": {
     "iopub.execute_input": "2022-05-20T22:50:15.473237Z",
     "iopub.status.busy": "2022-05-20T22:50:15.472783Z",
     "iopub.status.idle": "2022-05-20T22:50:15.477191Z",
     "shell.execute_reply": "2022-05-20T22:50:15.477679Z",
     "shell.execute_reply.started": "2022-05-20T22:45:16.572958Z"
    },
    "papermill": {
     "duration": 0.059095,
     "end_time": "2022-05-20T22:50:15.477830",
     "exception": false,
     "start_time": "2022-05-20T22:50:15.418735",
     "status": "completed"
    },
    "tags": []
   },
   "outputs": [
    {
     "name": "stdout",
     "output_type": "stream",
     "text": [
      "0.9897435897435898\n"
     ]
    }
   ],
   "source": [
    "print(recall_score(y_true, y_pred))"
   ]
  },
  {
   "cell_type": "markdown",
   "id": "18177eed",
   "metadata": {
    "papermill": {
     "duration": 0.048948,
     "end_time": "2022-05-20T22:50:15.577393",
     "exception": false,
     "start_time": "2022-05-20T22:50:15.528445",
     "status": "completed"
    },
    "tags": []
   },
   "source": [
    "## 特異度"
   ]
  },
  {
   "cell_type": "markdown",
   "id": "ee5a302f",
   "metadata": {
    "papermill": {
     "duration": 0.048961,
     "end_time": "2022-05-20T22:50:15.676881",
     "exception": false,
     "start_time": "2022-05-20T22:50:15.627920",
     "status": "completed"
    },
    "tags": []
   },
   "source": [
    "特異度（specificity）は実際に陰性のサンプルのうち正解したサンプルの割合"
   ]
  },
  {
   "cell_type": "code",
   "execution_count": 39,
   "id": "1d39bcff",
   "metadata": {
    "execution": {
     "iopub.execute_input": "2022-05-20T22:50:15.777237Z",
     "iopub.status.busy": "2022-05-20T22:50:15.776782Z",
     "iopub.status.idle": "2022-05-20T22:50:15.780840Z",
     "shell.execute_reply": "2022-05-20T22:50:15.781187Z",
     "shell.execute_reply.started": "2022-05-20T22:45:16.585535Z"
    },
    "papermill": {
     "duration": 0.0556,
     "end_time": "2022-05-20T22:50:15.781310",
     "exception": false,
     "start_time": "2022-05-20T22:50:15.725710",
     "status": "completed"
    },
    "tags": []
   },
   "outputs": [],
   "source": [
    "tn, fp, fn, tp = confusion_matrix(y_true, y_pred).ravel()"
   ]
  },
  {
   "cell_type": "code",
   "execution_count": 40,
   "id": "e86895b1",
   "metadata": {
    "execution": {
     "iopub.execute_input": "2022-05-20T22:50:15.884036Z",
     "iopub.status.busy": "2022-05-20T22:50:15.883553Z",
     "iopub.status.idle": "2022-05-20T22:50:15.886167Z",
     "shell.execute_reply": "2022-05-20T22:50:15.886694Z",
     "shell.execute_reply.started": "2022-05-20T22:45:16.597918Z"
    },
    "papermill": {
     "duration": 0.055709,
     "end_time": "2022-05-20T22:50:15.886827",
     "exception": false,
     "start_time": "2022-05-20T22:50:15.831118",
     "status": "completed"
    },
    "tags": []
   },
   "outputs": [
    {
     "name": "stdout",
     "output_type": "stream",
     "text": [
      "0.8205128205128205\n"
     ]
    }
   ],
   "source": [
    "print(tn / (tn + fp))"
   ]
  },
  {
   "cell_type": "markdown",
   "id": "b6c96306",
   "metadata": {
    "papermill": {
     "duration": 0.075535,
     "end_time": "2022-05-20T22:50:16.039127",
     "exception": false,
     "start_time": "2022-05-20T22:50:15.963592",
     "status": "completed"
    },
    "tags": []
   },
   "source": [
    "## F1値"
   ]
  },
  {
   "cell_type": "markdown",
   "id": "4922e29a",
   "metadata": {
    "papermill": {
     "duration": 0.077164,
     "end_time": "2022-05-20T22:50:16.193223",
     "exception": false,
     "start_time": "2022-05-20T22:50:16.116059",
     "status": "completed"
    },
    "tags": []
   },
   "source": [
    "F1値（F1-measure）は適合率と再現率の調和平均。"
   ]
  },
  {
   "cell_type": "code",
   "execution_count": 41,
   "id": "e7aabcf3",
   "metadata": {
    "execution": {
     "iopub.execute_input": "2022-05-20T22:50:16.354399Z",
     "iopub.status.busy": "2022-05-20T22:50:16.353805Z",
     "iopub.status.idle": "2022-05-20T22:50:16.356359Z",
     "shell.execute_reply": "2022-05-20T22:50:16.356868Z",
     "shell.execute_reply.started": "2022-05-20T22:45:16.609130Z"
    },
    "papermill": {
     "duration": 0.085082,
     "end_time": "2022-05-20T22:50:16.357011",
     "exception": false,
     "start_time": "2022-05-20T22:50:16.271929",
     "status": "completed"
    },
    "tags": []
   },
   "outputs": [
    {
     "name": "stdout",
     "output_type": "stream",
     "text": [
      "0.9437652811735943\n"
     ]
    }
   ],
   "source": [
    "print(f1_score(y_true, y_pred))"
   ]
  },
  {
   "cell_type": "markdown",
   "id": "4eabd481",
   "metadata": {
    "papermill": {
     "duration": 0.077214,
     "end_time": "2022-05-20T22:50:16.511274",
     "exception": false,
     "start_time": "2022-05-20T22:50:16.434060",
     "status": "completed"
    },
    "tags": []
   },
   "source": [
    "# 予測データフレームの結合・出力"
   ]
  },
  {
   "cell_type": "code",
   "execution_count": 42,
   "id": "29f8c2d0",
   "metadata": {
    "execution": {
     "iopub.execute_input": "2022-05-20T22:50:16.680051Z",
     "iopub.status.busy": "2022-05-20T22:50:16.670154Z",
     "iopub.status.idle": "2022-05-20T22:50:16.683161Z",
     "shell.execute_reply": "2022-05-20T22:50:16.683764Z",
     "shell.execute_reply.started": "2022-05-20T22:45:16.621507Z"
    },
    "papermill": {
     "duration": 0.094787,
     "end_time": "2022-05-20T22:50:16.683920",
     "exception": false,
     "start_time": "2022-05-20T22:50:16.589133",
     "status": "completed"
    },
    "tags": []
   },
   "outputs": [
    {
     "name": "stdout",
     "output_type": "stream",
     "text": [
      "                            name      label\n",
      "0      NORMAL2-IM-0336-0001.jpeg     NORMAL\n",
      "1              IM-0101-0001.jpeg     NORMAL\n",
      "2      NORMAL2-IM-0337-0001.jpeg     NORMAL\n",
      "3      NORMAL2-IM-0198-0001.jpeg  PNEUMONIA\n",
      "4              IM-0013-0001.jpeg     NORMAL\n",
      "..                           ...        ...\n",
      "385   person1659_virus_2867.jpeg  PNEUMONIA\n",
      "386   person1615_virus_2801.jpeg  PNEUMONIA\n",
      "387   person1664_virus_2877.jpeg  PNEUMONIA\n",
      "388  person111_bacteria_536.jpeg  PNEUMONIA\n",
      "389  person152_bacteria_724.jpeg  PNEUMONIA\n",
      "\n",
      "[624 rows x 2 columns]\n"
     ]
    }
   ],
   "source": [
    "df = pd.concat([test_normal_df, test_pneumonia_df])\n",
    "df['label'] = df['label'].map({0: 'NORMAL',\n",
    "                               1: 'PNEUMONIA'})\n",
    "print(df)"
   ]
  },
  {
   "cell_type": "code",
   "execution_count": 43,
   "id": "2c7bbd03",
   "metadata": {
    "execution": {
     "iopub.execute_input": "2022-05-20T22:50:16.787839Z",
     "iopub.status.busy": "2022-05-20T22:50:16.787365Z",
     "iopub.status.idle": "2022-05-20T22:50:16.794722Z",
     "shell.execute_reply": "2022-05-20T22:50:16.795158Z",
     "shell.execute_reply.started": "2022-05-20T22:45:16.642758Z"
    },
    "papermill": {
     "duration": 0.060064,
     "end_time": "2022-05-20T22:50:16.795258",
     "exception": false,
     "start_time": "2022-05-20T22:50:16.735194",
     "status": "completed"
    },
    "tags": []
   },
   "outputs": [],
   "source": [
    "# データフレームの出力\n",
    "df.to_csv('/kaggle/working/submission.csv', index = False)"
   ]
  }
 ],
 "metadata": {
  "kernelspec": {
   "display_name": "Python 3",
   "language": "python",
   "name": "python3"
  },
  "language_info": {
   "codemirror_mode": {
    "name": "ipython",
    "version": 3
   },
   "file_extension": ".py",
   "mimetype": "text/x-python",
   "name": "python",
   "nbconvert_exporter": "python",
   "pygments_lexer": "ipython3",
   "version": "3.7.12"
  },
  "papermill": {
   "default_parameters": {},
   "duration": 50.258411,
   "end_time": "2022-05-20T22:50:17.854185",
   "environment_variables": {},
   "exception": null,
   "input_path": "__notebook__.ipynb",
   "output_path": "__notebook__.ipynb",
   "parameters": {},
   "start_time": "2022-05-20T22:49:27.595774",
   "version": "2.3.3"
  }
 },
 "nbformat": 4,
 "nbformat_minor": 5
}
